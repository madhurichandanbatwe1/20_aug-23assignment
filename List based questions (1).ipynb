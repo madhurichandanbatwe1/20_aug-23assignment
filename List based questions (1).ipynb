{
 "cells": [
  {
   "cell_type": "markdown",
   "id": "f754c38c",
   "metadata": {},
   "source": [
    "1. Create a list with integers from 1 to 10."
   ]
  },
  {
   "cell_type": "code",
   "execution_count": 46,
   "id": "9f0cb920",
   "metadata": {},
   "outputs": [
    {
     "data": {
      "text/plain": [
       "[1, 2, 3, 4, 5, 6, 7, 8, 9, 10]"
      ]
     },
     "execution_count": 46,
     "metadata": {},
     "output_type": "execute_result"
    }
   ],
   "source": [
    "l=[x for x in range(1,11)]\n",
    "l"
   ]
  },
  {
   "cell_type": "markdown",
   "id": "3e921664",
   "metadata": {},
   "source": [
    "2. Find the length of a list without using the `len()` function."
   ]
  },
  {
   "cell_type": "code",
   "execution_count": 47,
   "id": "1d879bf9",
   "metadata": {},
   "outputs": [
    {
     "data": {
      "text/plain": [
       "[1, 2, 3, 4, 5, 6, 7, 8, 9, 10]"
      ]
     },
     "execution_count": 47,
     "metadata": {},
     "output_type": "execute_result"
    }
   ],
   "source": [
    "l"
   ]
  },
  {
   "cell_type": "code",
   "execution_count": 48,
   "id": "3e321c76",
   "metadata": {},
   "outputs": [
    {
     "name": "stdout",
     "output_type": "stream",
     "text": [
      "length is 10\n"
     ]
    }
   ],
   "source": [
    "c=0\n",
    "for i in l:\n",
    "    c=c+1\n",
    "print(\"length is\",c)"
   ]
  },
  {
   "cell_type": "markdown",
   "id": "26f23911",
   "metadata": {},
   "source": [
    "3. Append an element to the end of a list."
   ]
  },
  {
   "cell_type": "code",
   "execution_count": 49,
   "id": "317d5991",
   "metadata": {},
   "outputs": [
    {
     "data": {
      "text/plain": [
       "[1, 2, 3, 4, 5, 6, 7, 8, 9, 10, 50]"
      ]
     },
     "execution_count": 49,
     "metadata": {},
     "output_type": "execute_result"
    }
   ],
   "source": [
    "l.append(50)\n",
    "l"
   ]
  },
  {
   "cell_type": "markdown",
   "id": "3a2ba7da",
   "metadata": {},
   "source": [
    "4. Insert an element at a specific index in a list."
   ]
  },
  {
   "cell_type": "code",
   "execution_count": 50,
   "id": "33d129cb",
   "metadata": {},
   "outputs": [
    {
     "name": "stdout",
     "output_type": "stream",
     "text": [
      "[1, 2, 3, 4, 5, 6, 7, 8, 9, 10, 50]\n"
     ]
    },
    {
     "data": {
      "text/plain": [
       "[1, 2, 'a', 3, 4, 5, 6, 7, 8, 9, 10, 50]"
      ]
     },
     "execution_count": 50,
     "metadata": {},
     "output_type": "execute_result"
    }
   ],
   "source": [
    "print(l)\n",
    "l.insert(2,'a')\n",
    "l"
   ]
  },
  {
   "cell_type": "markdown",
   "id": "73e375e7",
   "metadata": {},
   "source": [
    "5. Remove an element from a list by its value."
   ]
  },
  {
   "cell_type": "code",
   "execution_count": 51,
   "id": "95577c28",
   "metadata": {},
   "outputs": [
    {
     "data": {
      "text/plain": [
       "[1, 2, 3, 4, 5, 6, 7, 8, 9, 10, 50]"
      ]
     },
     "execution_count": 51,
     "metadata": {},
     "output_type": "execute_result"
    }
   ],
   "source": [
    "l.remove('a')\n",
    "l"
   ]
  },
  {
   "cell_type": "markdown",
   "id": "21be8fde",
   "metadata": {},
   "source": [
    "6. Remove an element from a list by its index.\n"
   ]
  },
  {
   "cell_type": "code",
   "execution_count": 52,
   "id": "d604e837",
   "metadata": {},
   "outputs": [
    {
     "data": {
      "text/plain": [
       "[1, 2, 4, 5, 6, 7, 8, 9, 10, 50]"
      ]
     },
     "execution_count": 52,
     "metadata": {},
     "output_type": "execute_result"
    }
   ],
   "source": [
    "l.pop(2)\n",
    "l"
   ]
  },
  {
   "cell_type": "markdown",
   "id": "1e583acb",
   "metadata": {},
   "source": [
    "7. Check if an element exists in a list."
   ]
  },
  {
   "cell_type": "code",
   "execution_count": 31,
   "id": "111507a5",
   "metadata": {},
   "outputs": [
    {
     "name": "stdout",
     "output_type": "stream",
     "text": [
      "element exists\n"
     ]
    }
   ],
   "source": [
    "l=[2]\n",
    "if l!=[]:\n",
    "    print(\"element exists\")\n",
    "else:\n",
    "    print(\"element doesnt exists\")"
   ]
  },
  {
   "cell_type": "code",
   "execution_count": 54,
   "id": "3fae22c2",
   "metadata": {},
   "outputs": [
    {
     "name": "stdout",
     "output_type": "stream",
     "text": [
      "Enter the value to check3\n"
     ]
    },
    {
     "data": {
      "text/plain": [
       "[False]"
      ]
     },
     "execution_count": 54,
     "metadata": {},
     "output_type": "execute_result"
    }
   ],
   "source": [
    "x=int(input(\"Enter the value to check\"))\n",
    "l=[True if x in l else False]\n",
    "l"
   ]
  },
  {
   "cell_type": "markdown",
   "id": "e805a0e0",
   "metadata": {},
   "source": [
    "8. Find the index of the first occurrence of an element in a list."
   ]
  },
  {
   "cell_type": "code",
   "execution_count": 59,
   "id": "2ce5936e",
   "metadata": {},
   "outputs": [
    {
     "data": {
      "text/plain": [
       "1"
      ]
     },
     "execution_count": 59,
     "metadata": {},
     "output_type": "execute_result"
    }
   ],
   "source": [
    "l=[1,2,3,4]\n",
    "l=l.index(2)\n",
    "l"
   ]
  },
  {
   "cell_type": "markdown",
   "id": "dbae496b",
   "metadata": {},
   "source": [
    "9. Count the occurrences of an element in a list."
   ]
  },
  {
   "cell_type": "code",
   "execution_count": 62,
   "id": "329634df",
   "metadata": {},
   "outputs": [
    {
     "data": {
      "text/plain": [
       "2"
      ]
     },
     "execution_count": 62,
     "metadata": {},
     "output_type": "execute_result"
    }
   ],
   "source": [
    "l1=[1,2,3,4,3,2,3,4,5,6]\n",
    "l1.count(4)"
   ]
  },
  {
   "cell_type": "markdown",
   "id": "aa7501f3",
   "metadata": {},
   "source": [
    "10. Reverse the order of elements in a list"
   ]
  },
  {
   "cell_type": "code",
   "execution_count": 63,
   "id": "c29a9096",
   "metadata": {},
   "outputs": [
    {
     "data": {
      "text/plain": [
       "[6, 5, 4, 3, 2, 3, 4, 3, 2, 1]"
      ]
     },
     "execution_count": 63,
     "metadata": {},
     "output_type": "execute_result"
    }
   ],
   "source": [
    "l1[::-1]"
   ]
  },
  {
   "cell_type": "markdown",
   "id": "cabe5ce7",
   "metadata": {},
   "source": [
    "11. Sort a list in ascending order."
   ]
  },
  {
   "cell_type": "code",
   "execution_count": 65,
   "id": "4fbaa9e3",
   "metadata": {},
   "outputs": [
    {
     "data": {
      "text/plain": [
       "[1, 2, 2, 3, 3, 3, 4, 4, 5, 6]"
      ]
     },
     "execution_count": 65,
     "metadata": {},
     "output_type": "execute_result"
    }
   ],
   "source": [
    "l1.sort()\n",
    "l1"
   ]
  },
  {
   "cell_type": "markdown",
   "id": "3cbe7e45",
   "metadata": {},
   "source": [
    "12. Sort a list in descending order"
   ]
  },
  {
   "cell_type": "code",
   "execution_count": 71,
   "id": "dd2baa06",
   "metadata": {},
   "outputs": [
    {
     "data": {
      "text/plain": [
       "[6, 5, 4, 4, 3, 3, 3, 2, 2, 1]"
      ]
     },
     "execution_count": 71,
     "metadata": {},
     "output_type": "execute_result"
    }
   ],
   "source": [
    "l1.sort(reverse=True)\n",
    "l1"
   ]
  },
  {
   "cell_type": "markdown",
   "id": "9e00d140",
   "metadata": {},
   "source": [
    "13. Create a list of even numbers from 1 to 20.\n"
   ]
  },
  {
   "cell_type": "code",
   "execution_count": 73,
   "id": "f145991c",
   "metadata": {},
   "outputs": [
    {
     "data": {
      "text/plain": [
       "[2, 4, 6, 8, 10, 12, 14, 16, 18, 20]"
      ]
     },
     "execution_count": 73,
     "metadata": {},
     "output_type": "execute_result"
    }
   ],
   "source": [
    "p=[x for x in range(1,21) if x%2==0]\n",
    "p"
   ]
  },
  {
   "cell_type": "markdown",
   "id": "a59fdf10",
   "metadata": {},
   "source": [
    "14. Create a list of odd numbers from 1 to 20"
   ]
  },
  {
   "cell_type": "code",
   "execution_count": 74,
   "id": "ee66bf00",
   "metadata": {},
   "outputs": [
    {
     "data": {
      "text/plain": [
       "[1, 3, 5, 7, 9, 11, 13, 15, 17, 19]"
      ]
     },
     "execution_count": 74,
     "metadata": {},
     "output_type": "execute_result"
    }
   ],
   "source": [
    "p=[x for x in range(1,21) if x%2!=0]\n",
    "p"
   ]
  },
  {
   "cell_type": "markdown",
   "id": "79d6e2e0",
   "metadata": {},
   "source": [
    "15. Find the sum of all elements in a list.\n"
   ]
  },
  {
   "cell_type": "code",
   "execution_count": 82,
   "id": "b7069161",
   "metadata": {},
   "outputs": [
    {
     "name": "stdout",
     "output_type": "stream",
     "text": [
      "15\n"
     ]
    }
   ],
   "source": [
    "l2=[1,2,3,4,5]\n",
    "s=0\n",
    "for i in l2:\n",
    "    s=s+i\n",
    "print(s)"
   ]
  },
  {
   "cell_type": "markdown",
   "id": "4f55cd03",
   "metadata": {},
   "source": [
    "16. Find the maximum value in a list."
   ]
  },
  {
   "cell_type": "code",
   "execution_count": 87,
   "id": "16afa148",
   "metadata": {},
   "outputs": [
    {
     "name": "stdout",
     "output_type": "stream",
     "text": [
      "5\n"
     ]
    }
   ],
   "source": [
    "m=l2[0]\n",
    "for i in l2:\n",
    "    if i>m:\n",
    "        m=i\n",
    "print(m)    \n"
   ]
  },
  {
   "cell_type": "markdown",
   "id": "7b5d1c88",
   "metadata": {},
   "source": [
    "17. Find the minimum value in a list."
   ]
  },
  {
   "cell_type": "code",
   "execution_count": 88,
   "id": "d8fe9458",
   "metadata": {},
   "outputs": [
    {
     "name": "stdout",
     "output_type": "stream",
     "text": [
      "1\n"
     ]
    }
   ],
   "source": [
    "n=l2[0]\n",
    "for i in l2:\n",
    "    if i<n:\n",
    "        n=i\n",
    "print(n)    \n"
   ]
  },
  {
   "cell_type": "markdown",
   "id": "085bad5a",
   "metadata": {},
   "source": [
    "18. Create a list of squares of numbers from 1 to 10"
   ]
  },
  {
   "cell_type": "code",
   "execution_count": 90,
   "id": "9c75dbf2",
   "metadata": {},
   "outputs": [
    {
     "data": {
      "text/plain": [
       "[1, 4, 9, 16, 25, 36, 49, 64, 81, 100]"
      ]
     },
     "execution_count": 90,
     "metadata": {},
     "output_type": "execute_result"
    }
   ],
   "source": [
    "z=[x*x for x in range(1,11)]\n",
    "z"
   ]
  },
  {
   "cell_type": "markdown",
   "id": "b0c0d5f5",
   "metadata": {},
   "source": [
    "19. Create a list of random numbers"
   ]
  },
  {
   "cell_type": "code",
   "execution_count": 94,
   "id": "833a04e0",
   "metadata": {},
   "outputs": [
    {
     "data": {
      "text/plain": [
       "array([15, 18, 18, 10, 16, 13, 14, 17, 15, 10])"
      ]
     },
     "execution_count": 94,
     "metadata": {},
     "output_type": "execute_result"
    }
   ],
   "source": [
    "import numpy as np\n",
    "a=np.random.randint(10,20,10)\n",
    "a"
   ]
  },
  {
   "cell_type": "markdown",
   "id": "2616dd69",
   "metadata": {},
   "source": [
    "20. Remove duplicates from a list."
   ]
  },
  {
   "cell_type": "code",
   "execution_count": 2,
   "id": "cd53e31c",
   "metadata": {},
   "outputs": [
    {
     "data": {
      "text/plain": [
       "[1, 4, 6, 7]"
      ]
     },
     "execution_count": 2,
     "metadata": {},
     "output_type": "execute_result"
    }
   ],
   "source": [
    "w=[1,2,3,4,5,6,7,8]\n",
    "y=[2,5,3,8,12,11,13]\n",
    "l=[]\n",
    "for i in w:\n",
    "    if i not in y:\n",
    "        l.append(i)\n",
    "l        "
   ]
  },
  {
   "cell_type": "markdown",
   "id": "b1fe5d8d",
   "metadata": {},
   "source": [
    "21. Find the common elements between two lists."
   ]
  },
  {
   "cell_type": "code",
   "execution_count": 3,
   "id": "94ead5ef",
   "metadata": {},
   "outputs": [
    {
     "data": {
      "text/plain": [
       "[1, 2, 3, 4, 5, 6, 7, 8]"
      ]
     },
     "execution_count": 3,
     "metadata": {},
     "output_type": "execute_result"
    }
   ],
   "source": [
    "w"
   ]
  },
  {
   "cell_type": "code",
   "execution_count": 4,
   "id": "06e8b8e3",
   "metadata": {},
   "outputs": [
    {
     "data": {
      "text/plain": [
       "[2, 5, 3, 8, 12, 11, 13]"
      ]
     },
     "execution_count": 4,
     "metadata": {},
     "output_type": "execute_result"
    }
   ],
   "source": [
    "y"
   ]
  },
  {
   "cell_type": "code",
   "execution_count": 6,
   "id": "1709354a",
   "metadata": {},
   "outputs": [
    {
     "data": {
      "text/plain": [
       "[2, 3, 5, 8]"
      ]
     },
     "execution_count": 6,
     "metadata": {},
     "output_type": "execute_result"
    }
   ],
   "source": [
    "k=[]\n",
    "for i in w:\n",
    "    if i in y:\n",
    "        k.append(i)\n",
    "k        "
   ]
  },
  {
   "cell_type": "markdown",
   "id": "cdc4b767",
   "metadata": {},
   "source": [
    "22. Find the difference between two lists."
   ]
  },
  {
   "cell_type": "code",
   "execution_count": 11,
   "id": "3101b4eb",
   "metadata": {},
   "outputs": [
    {
     "name": "stdout",
     "output_type": "stream",
     "text": [
      "Elements unique to list1: [1, 2]\n",
      "Elements unique to list2: [6, 7]\n",
      "Common elements: [3, 4, 5]\n"
     ]
    }
   ],
   "source": [
    "list1 = [1, 2, 3, 4, 5]\n",
    "list2 = [3, 4, 5, 6, 7]\n",
    "\n",
    "\n",
    "difference_list1 = list(set(list1) - set(list2))\n",
    "difference_list2 = list(set(list2) - set(list1))\n",
    "\n",
    "print(\"Elements unique to list1:\", difference_list1)\n",
    "print(\"Elements unique to list2:\", difference_list2)\n",
    "common_elements = list(set(list1).intersection(list2))\n",
    "print(\"Common elements:\", common_elements)"
   ]
  },
  {
   "cell_type": "markdown",
   "id": "b81a8049",
   "metadata": {},
   "source": [
    "23. Merge two lists"
   ]
  },
  {
   "cell_type": "code",
   "execution_count": 20,
   "id": "6b281ba0",
   "metadata": {},
   "outputs": [],
   "source": [
    "l1=[1,2,3,4]\n",
    "l2=[4,5,6,7]\n",
    "l1.extend(l2)\n"
   ]
  },
  {
   "cell_type": "code",
   "execution_count": 21,
   "id": "2df04531",
   "metadata": {},
   "outputs": [
    {
     "data": {
      "text/plain": [
       "[1, 2, 3, 4, 4, 5, 6, 7]"
      ]
     },
     "execution_count": 21,
     "metadata": {},
     "output_type": "execute_result"
    }
   ],
   "source": [
    "l1"
   ]
  },
  {
   "cell_type": "markdown",
   "id": "0fe66498",
   "metadata": {},
   "source": [
    "24. Multiply all elements in a list by 2."
   ]
  },
  {
   "cell_type": "code",
   "execution_count": 1,
   "id": "a93fb8db",
   "metadata": {},
   "outputs": [],
   "source": [
    "l2=[1,2,3,4] \n",
    "l2=[i*2 for i in l2]"
   ]
  },
  {
   "cell_type": "code",
   "execution_count": 2,
   "id": "a427dc1c",
   "metadata": {},
   "outputs": [
    {
     "data": {
      "text/plain": [
       "[2, 4, 6, 8]"
      ]
     },
     "execution_count": 2,
     "metadata": {},
     "output_type": "execute_result"
    }
   ],
   "source": [
    "l2"
   ]
  },
  {
   "cell_type": "markdown",
   "id": "052fa629",
   "metadata": {},
   "source": [
    "25. Filter out all even numbers from a list"
   ]
  },
  {
   "cell_type": "code",
   "execution_count": 7,
   "id": "d3cddf31",
   "metadata": {},
   "outputs": [
    {
     "data": {
      "text/plain": [
       "[2, 4, 6]"
      ]
     },
     "execution_count": 7,
     "metadata": {},
     "output_type": "execute_result"
    }
   ],
   "source": [
    "l3=[1,5,2,4,6,3]\n",
    "z=list(filter(lambda x:x%2==0,l3))\n",
    "z"
   ]
  },
  {
   "cell_type": "markdown",
   "id": "21f03a46",
   "metadata": {},
   "source": [
    "26. Convert a list of strings to a list of integers."
   ]
  },
  {
   "cell_type": "code",
   "execution_count": 10,
   "id": "5d0445d9",
   "metadata": {},
   "outputs": [
    {
     "data": {
      "text/plain": [
       "[1, 2]"
      ]
     },
     "execution_count": 10,
     "metadata": {},
     "output_type": "execute_result"
    }
   ],
   "source": [
    "str1=['1','2']\n",
    "z=list(map(lambda x:int(x),str1))\n",
    "z"
   ]
  },
  {
   "cell_type": "markdown",
   "id": "ef2a517c",
   "metadata": {},
   "source": [
    "27. Convert a list of integers to a list of strings."
   ]
  },
  {
   "cell_type": "code",
   "execution_count": 14,
   "id": "1ddf3819",
   "metadata": {},
   "outputs": [
    {
     "data": {
      "text/plain": [
       "['1', '2']"
      ]
     },
     "execution_count": 14,
     "metadata": {},
     "output_type": "execute_result"
    }
   ],
   "source": [
    "int1=[1,2]\n",
    "z=list(map(lambda x:str(x),int1))\n",
    "z"
   ]
  },
  {
   "cell_type": "markdown",
   "id": "a6aa8f3f",
   "metadata": {},
   "source": [
    "28. Flatten a nested list."
   ]
  },
  {
   "cell_type": "code",
   "execution_count": 20,
   "id": "18091784",
   "metadata": {},
   "outputs": [
    {
     "name": "stdout",
     "output_type": "stream",
     "text": [
      "[1, 2, 3, 3, 4, 5, 6, 7, 2, 5, 3]\n"
     ]
    }
   ],
   "source": [
    "def flatten_list(lst, result=None):\n",
    "    if result is None:\n",
    "        result = []\n",
    "\n",
    "    for i in lst:\n",
    "        if type(i) == list:\n",
    "            flatten_list(i, result)\n",
    "        else:\n",
    "            result.append(i)\n",
    "\n",
    "    return result\n",
    "l1 = [1, 2, 3, [3, 4], [5, 6, 7], [[2, 5, 3]]]\n",
    "flattened_list = flatten_list(l1)\n",
    "print(flattened_list)"
   ]
  },
  {
   "cell_type": "markdown",
   "id": "64753510",
   "metadata": {},
   "source": [
    "29. Create a list of the first 10 Fibonacci numbers."
   ]
  },
  {
   "cell_type": "code",
   "execution_count": 21,
   "id": "8667ed58",
   "metadata": {},
   "outputs": [
    {
     "name": "stdout",
     "output_type": "stream",
     "text": [
      "[0, 1, 1, 2, 3, 5, 8, 13, 21, 34]\n"
     ]
    }
   ],
   "source": [
    "fibonacci_numbers = [0, 1]\n",
    "\n",
    "while len(fibonacci_numbers) < 10:\n",
    "    next_fibonacci = fibonacci_numbers[-1] + fibonacci_numbers[-2]\n",
    "    fibonacci_numbers.append(next_fibonacci)\n",
    "\n",
    "print(fibonacci_numbers)\n"
   ]
  },
  {
   "cell_type": "markdown",
   "id": "525a5e56",
   "metadata": {},
   "source": [
    "30. Check if a list is sorted."
   ]
  },
  {
   "cell_type": "code",
   "execution_count": 24,
   "id": "7eb14b32",
   "metadata": {},
   "outputs": [
    {
     "name": "stdout",
     "output_type": "stream",
     "text": [
      "The list is not sorted.\n"
     ]
    }
   ],
   "source": [
    "def issorted(lst):\n",
    "    for i in range(len(lst) - 1):\n",
    "        if lst[i] > lst[i + 1]:\n",
    "            return False\n",
    "    return True\n",
    "\n",
    "l1 = [2, 9, 6, 4, 5]\n",
    "\n",
    "if issorted(l1):\n",
    "    print(\"The list is sorted.\")\n",
    "else:\n",
    "    print(\"The list is not sorted.\")\n"
   ]
  },
  {
   "cell_type": "markdown",
   "id": "ed1aee92",
   "metadata": {},
   "source": [
    "31. Rotate a list to the left by `n` positions."
   ]
  },
  {
   "cell_type": "code",
   "execution_count": 26,
   "id": "738fb6ce",
   "metadata": {},
   "outputs": [
    {
     "name": "stdout",
     "output_type": "stream",
     "text": [
      "[2, 3, 5, 4, 1, 6]\n"
     ]
    }
   ],
   "source": [
    "l2=[1,6,2,3,5,4]\n",
    "def rotate_left(lst, n):\n",
    "    n = n % len(lst)  # Handle the case where n is larger than the length of the list\n",
    "    rotated_list = lst[n:] + lst[:n]\n",
    "    return rotated_list\n",
    "\n",
    "# Example usage:\n",
    "l2=[1,6,2,3,5,4]\n",
    "n_positions = 2\n",
    "\n",
    "rotated_list = rotate_left(l2, n_positions)\n",
    "print(rotated_list)\n"
   ]
  },
  {
   "cell_type": "markdown",
   "id": "fc194785",
   "metadata": {},
   "source": [
    "32. Rotate a list to the right by `n` positions"
   ]
  },
  {
   "cell_type": "code",
   "execution_count": 27,
   "id": "cec983da",
   "metadata": {},
   "outputs": [
    {
     "name": "stdout",
     "output_type": "stream",
     "text": [
      "[5, 4, 1, 6, 2, 3]\n"
     ]
    }
   ],
   "source": [
    "l2=[1,6,2,3,5,4]\n",
    "def rotate_right(lst, n):\n",
    "    n = n % len(lst)  # Handle the case where n is larger than the length of the list\n",
    "    rotated_list = lst[-n:] + lst[:-n]\n",
    "    return rotated_list\n",
    "\n",
    "# Example usage:\n",
    "l2=[1,6,2,3,5,4]\n",
    "n_positions = 2\n",
    "\n",
    "rotated_list = rotate_right(l2, n_positions)\n",
    "print(rotated_list)\n",
    "\n",
    "    "
   ]
  },
  {
   "cell_type": "markdown",
   "id": "3e4fae09",
   "metadata": {},
   "source": [
    "33. Create a list of prime numbers up to 50.\n"
   ]
  },
  {
   "cell_type": "code",
   "execution_count": 1,
   "id": "c9095858",
   "metadata": {},
   "outputs": [
    {
     "name": "stdout",
     "output_type": "stream",
     "text": [
      "[2, 3, 5, 7, 11, 13, 17, 19, 23, 29, 31, 37, 41, 43, 47]\n"
     ]
    }
   ],
   "source": [
    "def is_prime(number):\n",
    "    if number < 2:\n",
    "        return False\n",
    "    for i in range(2, int(number**0.5) + 1):\n",
    "        if number % i == 0:\n",
    "            return False\n",
    "    return True\n",
    "\n",
    "def generate_primes(n):\n",
    "    primes = []\n",
    "    for i in range(2, n + 1):\n",
    "        if is_prime(i):\n",
    "            primes.append(i)\n",
    "    return primes\n",
    "\n",
    "\n",
    "result = generate_primes(50)\n",
    "print(result)\n"
   ]
  },
  {
   "cell_type": "markdown",
   "id": "79a3b54d",
   "metadata": {},
   "source": [
    "34. Split a list into chunks of size `n"
   ]
  },
  {
   "cell_type": "code",
   "execution_count": 3,
   "id": "59037525",
   "metadata": {},
   "outputs": [
    {
     "name": "stdout",
     "output_type": "stream",
     "text": [
      "[1, 2, 3]\n",
      "[2, 3, 4]\n",
      "[3, 4, 5]\n",
      "[4, 5, 6]\n",
      "[5, 6, 7]\n",
      "[6, 7, 8]\n",
      "[7, 8, 9]\n",
      "[8, 9, 10]\n",
      "[9, 10, 11]\n",
      "[10, 11]\n",
      "[11]\n"
     ]
    }
   ],
   "source": [
    "my_list = [1, 2, 3, 4, 5, 6, 7, 8, 9, 10, 11]\n",
    "chunk_size = 3\n",
    "for i in range(0,len(my_list)):\n",
    "    print(my_list[i:i+chunk_size])\n",
    "    "
   ]
  },
  {
   "cell_type": "markdown",
   "id": "ef852438",
   "metadata": {},
   "source": [
    "35. Find the second largest number in a list."
   ]
  },
  {
   "cell_type": "code",
   "execution_count": 7,
   "id": "19971d33",
   "metadata": {},
   "outputs": [
    {
     "name": "stdout",
     "output_type": "stream",
     "text": [
      "5\n"
     ]
    }
   ],
   "source": [
    "l1=[1,4,2,5,3,6,7]\n",
    "l1.sort(reverse=True)\n",
    "print(l1[2])"
   ]
  },
  {
   "cell_type": "markdown",
   "id": "10ed019e",
   "metadata": {},
   "source": [
    "36. Replace every element in a list with its square."
   ]
  },
  {
   "cell_type": "code",
   "execution_count": 11,
   "id": "57c60b0b",
   "metadata": {},
   "outputs": [
    {
     "data": {
      "text/plain": [
       "[1, 16, 4, 25, 9, 36, 49]"
      ]
     },
     "execution_count": 11,
     "metadata": {},
     "output_type": "execute_result"
    }
   ],
   "source": [
    "l1=[1,4,2,5,3,6,7]\n",
    "l2=list(map(lambda x:x**2,l1))\n",
    "l2"
   ]
  },
  {
   "cell_type": "markdown",
   "id": "346bc67a",
   "metadata": {},
   "source": [
    "37. Convert a list to a dictionary where list elements become keys and their indices become values."
   ]
  },
  {
   "cell_type": "code",
   "execution_count": 17,
   "id": "957e4832",
   "metadata": {},
   "outputs": [
    {
     "name": "stdout",
     "output_type": "stream",
     "text": [
      "{1: 0, 4: 1, 2: 2, 5: 3, 3: 4, 6: 5, 7: 6}\n"
     ]
    }
   ],
   "source": [
    "l1=[1,4,2,5,3,6,7]\n",
    "d={}\n",
    "\n",
    "for i in range(len(l1)):\n",
    "    key=l1[i]\n",
    "    value=i\n",
    "    d[key]=value\n",
    "print(d)"
   ]
  },
  {
   "cell_type": "markdown",
   "id": "7357d267",
   "metadata": {},
   "source": [
    "38. Shuffle the elements of a list randomly."
   ]
  },
  {
   "cell_type": "code",
   "execution_count": 20,
   "id": "ec8fb2ac",
   "metadata": {},
   "outputs": [
    {
     "data": {
      "text/plain": [
       "[7, 2, 4, 6, 5, 1, 3]"
      ]
     },
     "execution_count": 20,
     "metadata": {},
     "output_type": "execute_result"
    }
   ],
   "source": [
    "import random\n",
    "\n",
    "my_list = [1, 4, 2, 5, 3, 6, 7]\n",
    "random.shuffle(my_list)\n",
    "my_list"
   ]
  },
  {
   "cell_type": "markdown",
   "id": "c4ef7e6a",
   "metadata": {},
   "source": [
    "39. Create a list of the first 10 factorial numbers"
   ]
  },
  {
   "cell_type": "code",
   "execution_count": 23,
   "id": "8cda3253",
   "metadata": {},
   "outputs": [
    {
     "data": {
      "text/plain": [
       "[1, 1, 2, 6, 24, 120, 720, 5040, 40320, 362880]"
      ]
     },
     "execution_count": 23,
     "metadata": {},
     "output_type": "execute_result"
    }
   ],
   "source": [
    "def factorial(n):\n",
    "    if n==0:\n",
    "        return 1\n",
    "    else:\n",
    "        return n*factorial(n-1)\n",
    "z=[factorial(i) for i in range(10)]\n",
    "z      "
   ]
  },
  {
   "cell_type": "markdown",
   "id": "6204b90b",
   "metadata": {},
   "source": [
    "40. Check if two lists have at least one element in common."
   ]
  },
  {
   "cell_type": "code",
   "execution_count": 28,
   "id": "aa4b56d3",
   "metadata": {},
   "outputs": [
    {
     "name": "stdout",
     "output_type": "stream",
     "text": [
      "there is atleast 1 element common to both l1 and l2\n",
      "there is atleast 1 element common to both l1 and l2\n",
      "there is atleast 1 element common to both l1 and l2\n",
      "there is atleast 1 element common to both l1 and l2\n",
      "there is atleast 1 element common to both l1 and l2\n"
     ]
    }
   ],
   "source": [
    "l1=[1,4,3,2,5]\n",
    "l2=[3,2,4,5,1]\n",
    "for i in l1:\n",
    "    if i in l2:\n",
    "        print(\"there is atleast 1 element common to both l1 and l2\")\n",
    "    else:\n",
    "        print(\"No element in common\")"
   ]
  },
  {
   "cell_type": "markdown",
   "id": "b17b962f",
   "metadata": {},
   "source": [
    "41. Remove all elements from a list"
   ]
  },
  {
   "cell_type": "code",
   "execution_count": 31,
   "id": "7a0e8ae2",
   "metadata": {},
   "outputs": [
    {
     "data": {
      "text/plain": [
       "[]"
      ]
     },
     "execution_count": 31,
     "metadata": {},
     "output_type": "execute_result"
    }
   ],
   "source": [
    "l1=[1,4,3,2,5]\n",
    "l1.clear()\n",
    "l1"
   ]
  },
  {
   "cell_type": "markdown",
   "id": "c924e069",
   "metadata": {},
   "source": [
    "42. Replace negative numbers in a list with 0."
   ]
  },
  {
   "cell_type": "code",
   "execution_count": 34,
   "id": "1da690c4",
   "metadata": {},
   "outputs": [
    {
     "name": "stdout",
     "output_type": "stream",
     "text": [
      "[0, 4, 3, 0, 9, 0, 0, 6, 0]\n"
     ]
    }
   ],
   "source": [
    "l1=[-1,4,3,-2,9,-5,-3,6,-2]\n",
    "for i in range(len(l1)):\n",
    "    if l1[i]<0:\n",
    "        l1[i]=0\n",
    "print(l1)        "
   ]
  },
  {
   "cell_type": "markdown",
   "id": "6131b5dc",
   "metadata": {},
   "source": [
    "43. Convert a string into a list of words."
   ]
  },
  {
   "cell_type": "code",
   "execution_count": 3,
   "id": "7c5576ba",
   "metadata": {},
   "outputs": [
    {
     "data": {
      "text/plain": [
       "['Rohit', 'is', 'not', 'a', 'good', 'boy']"
      ]
     },
     "execution_count": 3,
     "metadata": {},
     "output_type": "execute_result"
    }
   ],
   "source": [
    "str1=\"Rohit is not a good boy\"\n",
    "x=str1.split()\n",
    "x"
   ]
  },
  {
   "cell_type": "markdown",
   "id": "a11c1d5c",
   "metadata": {},
   "source": [
    "44.Convert a list of words into a string."
   ]
  },
  {
   "cell_type": "code",
   "execution_count": 4,
   "id": "9cfa5712",
   "metadata": {},
   "outputs": [
    {
     "data": {
      "text/plain": [
       "'Rohit is not a good boy'"
      ]
     },
     "execution_count": 4,
     "metadata": {},
     "output_type": "execute_result"
    }
   ],
   "source": [
    "(\" \").join(x)"
   ]
  },
  {
   "cell_type": "markdown",
   "id": "32dd82d7",
   "metadata": {},
   "source": [
    "45. Create a list of the first `n` powers of 2."
   ]
  },
  {
   "cell_type": "code",
   "execution_count": 30,
   "id": "f0334447",
   "metadata": {},
   "outputs": [
    {
     "name": "stdout",
     "output_type": "stream",
     "text": [
      "enter the value of n4\n",
      "[1, 2, 4, 8]\n"
     ]
    }
   ],
   "source": [
    "n=int(input(\"enter the value of n\"))\n",
    "l=[2**i for i in range(n)]\n",
    "print(l)"
   ]
  },
  {
   "cell_type": "markdown",
   "id": "a38d28d7",
   "metadata": {},
   "source": [
    "46. Find the longest string in a list of strings."
   ]
  },
  {
   "cell_type": "code",
   "execution_count": 11,
   "id": "e90d9606",
   "metadata": {},
   "outputs": [
    {
     "name": "stdout",
     "output_type": "stream",
     "text": [
      "length is 14 datasciencepro\n"
     ]
    }
   ],
   "source": [
    "l=['incarnation','expressive','datasciencepro']\n",
    "l1=[]\n",
    "for i in l:\n",
    "    l1.append(len(i))\n",
    "    a=max(l1)\n",
    "print('length is',a,i)"
   ]
  },
  {
   "cell_type": "markdown",
   "id": "1c710112",
   "metadata": {},
   "source": [
    "47. Find the shortest string in a list of strings"
   ]
  },
  {
   "cell_type": "code",
   "execution_count": 15,
   "id": "d0ab2452",
   "metadata": {},
   "outputs": [
    {
     "name": "stdout",
     "output_type": "stream",
     "text": [
      "shortest string is  expressive\n"
     ]
    }
   ],
   "source": [
    "l=['incarnation','expressive','datasciencepro']\n",
    "shortest=l[0]\n",
    "for i in l:\n",
    "    if len(i)<len(shortest):\n",
    "        shortest=i\n",
    "print(\"shortest string is \",shortest)"
   ]
  },
  {
   "cell_type": "markdown",
   "id": "88bd8280",
   "metadata": {},
   "source": [
    "48. Create a list of the first `n` triangular numbers."
   ]
  },
  {
   "cell_type": "code",
   "execution_count": 29,
   "id": "a52d181c",
   "metadata": {},
   "outputs": [
    {
     "name": "stdout",
     "output_type": "stream",
     "text": [
      "enter the value of n3\n",
      "[1, 3, 6]\n"
     ]
    }
   ],
   "source": [
    "triangular_numbers = []\n",
    "n=int(input(\"enter the value of n\"))\n",
    "for i in range(1, n + 1):\n",
    "    triangular_numbers.append(i * (i + 1) // 2)\n",
    "print(triangular_numbers)"
   ]
  },
  {
   "cell_type": "markdown",
   "id": "aea95f1e",
   "metadata": {},
   "source": [
    "49. Check if a list contains another list as a subsequence."
   ]
  },
  {
   "cell_type": "code",
   "execution_count": 19,
   "id": "e44a2878",
   "metadata": {},
   "outputs": [
    {
     "name": "stdout",
     "output_type": "stream",
     "text": [
      "length of common elements is 3\n"
     ]
    }
   ],
   "source": [
    "seq = [1, 2, 3, 4, 5, 6, 7]\n",
    "subseq = [2, 4, 6]\n",
    "i=0\n",
    "j=0\n",
    "while i<len(subseq) and j<len(seq):\n",
    "    if subseq[i]==seq[j]:\n",
    "        i+=1\n",
    "    j+=1\n",
    "print(\"length of common elements is\",i)"
   ]
  },
  {
   "cell_type": "markdown",
   "id": "1d8b64f7",
   "metadata": {},
   "source": [
    "50. Swap two elements in a list by their indices."
   ]
  },
  {
   "cell_type": "code",
   "execution_count": 23,
   "id": "beaa2367",
   "metadata": {},
   "outputs": [
    {
     "name": "stdout",
     "output_type": "stream",
     "text": [
      "[1, 2, 4, 3, 5, 6, 7, 8, 9]\n"
     ]
    }
   ],
   "source": [
    "l1=[1,2,3,4,5,6,7,8,9]\n",
    "l1[2],l1[3]=l1[3],l1[2]\n",
    "print(l1)"
   ]
  },
  {
   "cell_type": "code",
   "execution_count": null,
   "id": "50dcffd2",
   "metadata": {},
   "outputs": [],
   "source": []
  }
 ],
 "metadata": {
  "kernelspec": {
   "display_name": "Python 3 (ipykernel)",
   "language": "python",
   "name": "python3"
  },
  "language_info": {
   "codemirror_mode": {
    "name": "ipython",
    "version": 3
   },
   "file_extension": ".py",
   "mimetype": "text/x-python",
   "name": "python",
   "nbconvert_exporter": "python",
   "pygments_lexer": "ipython3",
   "version": "3.9.13"
  }
 },
 "nbformat": 4,
 "nbformat_minor": 5
}
