{
 "cells": [
  {
   "cell_type": "markdown",
   "id": "b288365b",
   "metadata": {},
   "source": [
    "Create a tuple with integers from 1 to 5."
   ]
  },
  {
   "cell_type": "code",
   "execution_count": 4,
   "id": "e3cca8e3",
   "metadata": {},
   "outputs": [
    {
     "name": "stdout",
     "output_type": "stream",
     "text": [
      "(1, 2, 3, 4, 5)\n"
     ]
    }
   ],
   "source": [
    "t=(1,2,3,4,5)\n",
    "print(t)"
   ]
  },
  {
   "cell_type": "markdown",
   "id": "4a114cf7",
   "metadata": {},
   "source": [
    "2. Access the third element of a tuple.\n"
   ]
  },
  {
   "cell_type": "code",
   "execution_count": 12,
   "id": "1c04b473",
   "metadata": {},
   "outputs": [
    {
     "name": "stdout",
     "output_type": "stream",
     "text": [
      "4\n"
     ]
    }
   ],
   "source": [
    "t=(1,2,3,4,5)\n",
    "print(t[3])"
   ]
  },
  {
   "cell_type": "markdown",
   "id": "c4da69dc",
   "metadata": {},
   "source": [
    "3. Find the length of a tuple without using the `len()` function."
   ]
  },
  {
   "cell_type": "code",
   "execution_count": 13,
   "id": "f2ea2e77",
   "metadata": {},
   "outputs": [
    {
     "name": "stdout",
     "output_type": "stream",
     "text": [
      "length of tuple is  5\n"
     ]
    }
   ],
   "source": [
    "t=(1,2,3,4,5)\n",
    "c=0\n",
    "for i in t:\n",
    "    c=c+1\n",
    "print(\"length of tuple is \",c)"
   ]
  },
  {
   "cell_type": "markdown",
   "id": "5f4e75dd",
   "metadata": {},
   "source": [
    "4. Count the occurrences of an element in a tuple."
   ]
  },
  {
   "cell_type": "code",
   "execution_count": 19,
   "id": "3110579e",
   "metadata": {},
   "outputs": [
    {
     "name": "stdout",
     "output_type": "stream",
     "text": [
      "Number of occurrence for 2 is 3\n"
     ]
    }
   ],
   "source": [
    "t=(1,2,3,4,5,2,3,4,2,4)\n",
    "print(\"Number of occurrence for 2 is\",t.count(2))"
   ]
  },
  {
   "cell_type": "markdown",
   "id": "685981f2",
   "metadata": {},
   "source": [
    "5.Find the index of the first occurrence of an element in a tuple."
   ]
  },
  {
   "cell_type": "code",
   "execution_count": 29,
   "id": "22060f34",
   "metadata": {},
   "outputs": [
    {
     "name": "stdout",
     "output_type": "stream",
     "text": [
      "enter the element whose occurrence is to be found out2\n",
      "Element 2 occurs multiple times in the tuple.\n"
     ]
    }
   ],
   "source": [
    "t=(1,2,3,4,5,2,3,4,2,4)\n",
    "n=int(input(\"enter the element whose occurrence is to be found out\"))\n",
    "if t.count(n) == 1:\n",
    "    print(\"Index of\", n, \"is\", t.index(n))\n",
    "elif t.count(n) > 1:\n",
    "    print(\"Element\", n, \"occurs multiple times in the tuple.\")\n",
    "else:\n",
    "    print(\"Element\", n, \"does not exist in the tuple.\")"
   ]
  },
  {
   "cell_type": "markdown",
   "id": "9d7178e6",
   "metadata": {},
   "source": [
    "6. Check if an element exists in a tuple."
   ]
  },
  {
   "cell_type": "code",
   "execution_count": 31,
   "id": "96f79085",
   "metadata": {},
   "outputs": [
    {
     "name": "stdout",
     "output_type": "stream",
     "text": [
      "enter the element to check2\n",
      "element exists\n"
     ]
    }
   ],
   "source": [
    "t=(1,2,3,4)\n",
    "a=int(input(\"enter the element to check\"))\n",
    "if a in t:\n",
    "    print(\"element exists\")\n",
    "else:\n",
    "    print(\"element does not exist\")"
   ]
  },
  {
   "cell_type": "markdown",
   "id": "85f781f7",
   "metadata": {},
   "source": [
    "7. Convert a tuple to a list."
   ]
  },
  {
   "cell_type": "code",
   "execution_count": 33,
   "id": "798cc7c4",
   "metadata": {},
   "outputs": [
    {
     "name": "stdout",
     "output_type": "stream",
     "text": [
      "[1, 2, 3, 4]\n"
     ]
    }
   ],
   "source": [
    "t=(1,2,3,4)\n",
    "print(list(t))"
   ]
  },
  {
   "cell_type": "markdown",
   "id": "3b29c30f",
   "metadata": {},
   "source": [
    "8. Convert a list to a tuple.\n"
   ]
  },
  {
   "cell_type": "code",
   "execution_count": 34,
   "id": "49a27ddb",
   "metadata": {},
   "outputs": [
    {
     "name": "stdout",
     "output_type": "stream",
     "text": [
      "(1, 2, 3, 4)\n"
     ]
    }
   ],
   "source": [
    "l=[1,2,3,4]\n",
    "print(tuple(l))"
   ]
  },
  {
   "cell_type": "markdown",
   "id": "ce8a88de",
   "metadata": {},
   "source": [
    "9.Unpack the elements of a tuple into variables."
   ]
  },
  {
   "cell_type": "code",
   "execution_count": 35,
   "id": "d9459879",
   "metadata": {},
   "outputs": [
    {
     "name": "stdout",
     "output_type": "stream",
     "text": [
      "a: 1\n",
      "b: 2\n",
      "c: 3\n"
     ]
    }
   ],
   "source": [
    "t = (1, 2, 3)\n",
    "\n",
    "# Unpack tuple elements into variables\n",
    "a, b, c = t\n",
    "\n",
    "print(\"a:\", a)  # Output: 1\n",
    "print(\"b:\", b)  # Output: 2\n",
    "print(\"c:\", c)  # Output: 3\n"
   ]
  },
  {
   "cell_type": "markdown",
   "id": "60fbb6f8",
   "metadata": {},
   "source": [
    "10. Create a tuple of even numbers from 1 to 10."
   ]
  },
  {
   "cell_type": "code",
   "execution_count": 37,
   "id": "228e14cd",
   "metadata": {},
   "outputs": [
    {
     "name": "stdout",
     "output_type": "stream",
     "text": [
      "(2, 4, 6, 8, 10)\n"
     ]
    }
   ],
   "source": [
    "t=tuple()\n",
    "l=list(t)\n",
    "for i in range(1,11):\n",
    "    if i%2==0:\n",
    "        l.append(i)\n",
    "print(tuple(l))\n",
    "        "
   ]
  },
  {
   "cell_type": "markdown",
   "id": "cbdc69b6",
   "metadata": {},
   "source": [
    "11. Create a tuple of odd numbers from 1 to 10."
   ]
  },
  {
   "cell_type": "code",
   "execution_count": 38,
   "id": "83586745",
   "metadata": {},
   "outputs": [
    {
     "name": "stdout",
     "output_type": "stream",
     "text": [
      "(1, 3, 5, 7, 9)\n"
     ]
    }
   ],
   "source": [
    "t=tuple()\n",
    "l=list(t)\n",
    "for i in range(1,11):\n",
    "    if i%2!=0:\n",
    "        l.append(i)\n",
    "print(tuple(l))\n",
    "        "
   ]
  },
  {
   "cell_type": "markdown",
   "id": "af6228fa",
   "metadata": {},
   "source": [
    "12. Concatenate two tuples"
   ]
  },
  {
   "cell_type": "code",
   "execution_count": 48,
   "id": "18705d4f",
   "metadata": {},
   "outputs": [
    {
     "data": {
      "text/plain": [
       "(1, 2, 3, 4, 5, 6, 7, 8)"
      ]
     },
     "execution_count": 48,
     "metadata": {},
     "output_type": "execute_result"
    }
   ],
   "source": [
    "t1=(1,2,3,4)\n",
    "t2=(5,6,7,8)\n",
    "a=t1+t2\n",
    "a"
   ]
  },
  {
   "cell_type": "markdown",
   "id": "a74ab5cd",
   "metadata": {},
   "source": [
    "13. Repeat a tuple three times.\n"
   ]
  },
  {
   "cell_type": "code",
   "execution_count": 2,
   "id": "c9222ec1",
   "metadata": {},
   "outputs": [
    {
     "name": "stdout",
     "output_type": "stream",
     "text": [
      "(1, 2, 3, 4, 1, 2, 3, 4, 1, 2, 3, 4)\n"
     ]
    }
   ],
   "source": [
    "t1=(1,2,3,4)\n",
    "t2=3*t1\n",
    "print(t2)"
   ]
  },
  {
   "cell_type": "markdown",
   "id": "b13f98d4",
   "metadata": {},
   "source": [
    "14. Check if a tuple is empty"
   ]
  },
  {
   "cell_type": "code",
   "execution_count": 5,
   "id": "69f3d1f3",
   "metadata": {},
   "outputs": [
    {
     "name": "stdout",
     "output_type": "stream",
     "text": [
      "tuple is not empty\n"
     ]
    }
   ],
   "source": [
    "tup=(2,3,4,5)\n",
    "if tup==():\n",
    "    print(\"tuple is empty\")\n",
    "else:\n",
    "    print(\"tuple is not empty\")"
   ]
  },
  {
   "cell_type": "markdown",
   "id": "78de3648",
   "metadata": {},
   "source": [
    "15. Create a nested tuple."
   ]
  },
  {
   "cell_type": "code",
   "execution_count": 7,
   "id": "e3d5721f",
   "metadata": {},
   "outputs": [
    {
     "name": "stdout",
     "output_type": "stream",
     "text": [
      "(1, 2, 3, (1, 2, (3, 2), 5, 4))\n"
     ]
    }
   ],
   "source": [
    "tup=(1,2,3,(1,2,(3,2),5,4))\n",
    "print(tup)"
   ]
  },
  {
   "cell_type": "markdown",
   "id": "89a3658f",
   "metadata": {},
   "source": [
    "16. Access the first element of a nested tuple.\n"
   ]
  },
  {
   "cell_type": "code",
   "execution_count": 10,
   "id": "0149d316",
   "metadata": {},
   "outputs": [
    {
     "data": {
      "text/plain": [
       "1"
      ]
     },
     "execution_count": 10,
     "metadata": {},
     "output_type": "execute_result"
    }
   ],
   "source": [
    "tup[0]"
   ]
  },
  {
   "cell_type": "markdown",
   "id": "4b502e07",
   "metadata": {},
   "source": [
    "17. Create a tuple with a single element."
   ]
  },
  {
   "cell_type": "code",
   "execution_count": 13,
   "id": "76fc46b4",
   "metadata": {},
   "outputs": [
    {
     "name": "stdout",
     "output_type": "stream",
     "text": [
      "3\n"
     ]
    }
   ],
   "source": [
    "tup=(3)\n",
    "print(tup)"
   ]
  },
  {
   "cell_type": "markdown",
   "id": "fa6c25a8",
   "metadata": {},
   "source": [
    "18. Compare two tuples"
   ]
  },
  {
   "cell_type": "code",
   "execution_count": 12,
   "id": "c03a3054",
   "metadata": {},
   "outputs": [
    {
     "name": "stdout",
     "output_type": "stream",
     "text": [
      "tuples are same\n"
     ]
    }
   ],
   "source": [
    "t1=(1,2,3)\n",
    "t2=(1,2,3)\n",
    "if t1==t2:\n",
    "    print(\"tuples are same\")\n",
    "else:\n",
    "    print(\"tuples are not same\")"
   ]
  },
  {
   "cell_type": "markdown",
   "id": "9e4faad7",
   "metadata": {},
   "source": [
    "19. Delete a tuple."
   ]
  },
  {
   "cell_type": "code",
   "execution_count": 40,
   "id": "46dc6af7",
   "metadata": {},
   "outputs": [],
   "source": [
    "tup=(1,2,3)\n",
    "del tup\n"
   ]
  },
  {
   "cell_type": "markdown",
   "id": "b93cdf08",
   "metadata": {},
   "source": [
    "20. Slice a tuple"
   ]
  },
  {
   "cell_type": "code",
   "execution_count": 38,
   "id": "d750485f",
   "metadata": {},
   "outputs": [
    {
     "name": "stdout",
     "output_type": "stream",
     "text": [
      "(3, 4, 5)\n"
     ]
    }
   ],
   "source": [
    "tup=(1,2,3,4,5)\n",
    "tup2=tup[2:5]\n",
    "print(tup2)"
   ]
  },
  {
   "cell_type": "markdown",
   "id": "04d029f2",
   "metadata": {},
   "source": [
    "21. Find the maximum value in a tuple."
   ]
  },
  {
   "cell_type": "code",
   "execution_count": 36,
   "id": "1bcd6f36",
   "metadata": {},
   "outputs": [
    {
     "name": "stdout",
     "output_type": "stream",
     "text": [
      "67\n"
     ]
    }
   ],
   "source": [
    "tup=(43,54,23,67)\n",
    "m=tup[0]\n",
    "for i in tup:\n",
    "    if i>m:\n",
    "        m=i\n",
    "print(m)"
   ]
  },
  {
   "cell_type": "markdown",
   "id": "35e7e164",
   "metadata": {},
   "source": [
    "22. Find the minimum value in a tuple."
   ]
  },
  {
   "cell_type": "code",
   "execution_count": 22,
   "id": "824aa444",
   "metadata": {},
   "outputs": [
    {
     "name": "stdout",
     "output_type": "stream",
     "text": [
      "23\n"
     ]
    }
   ],
   "source": [
    "tup=(43,54,23,67)\n",
    "m=tup[0]\n",
    "for i in tup:\n",
    "    if i<m:\n",
    "        m=i\n",
    "print(m)"
   ]
  },
  {
   "cell_type": "markdown",
   "id": "c6090d88",
   "metadata": {},
   "source": [
    "23. Convert a string to a tuple of characters"
   ]
  },
  {
   "cell_type": "code",
   "execution_count": 32,
   "id": "d7ab8053",
   "metadata": {},
   "outputs": [
    {
     "name": "stdout",
     "output_type": "stream",
     "text": [
      "('F', 'u', 'l', 'l', 'S', 't', 'a', 'c', 'k', 'D', 'a', 't', 'a', 'S', 'c', 'i', 'e', 'n', 'c', 'e', 'P', 'r', 'o')\n"
     ]
    }
   ],
   "source": [
    "string=\"FullStackDataSciencePro\"\n",
    "z=list(string)\n",
    "a=tuple(z)\n",
    "print(a)"
   ]
  },
  {
   "cell_type": "markdown",
   "id": "32e09b01",
   "metadata": {},
   "source": [
    "24. Convert a tuple of characters to a string."
   ]
  },
  {
   "cell_type": "code",
   "execution_count": 34,
   "id": "8f66e56c",
   "metadata": {},
   "outputs": [
    {
     "data": {
      "text/plain": [
       "'FullStackDataSciencePro'"
      ]
     },
     "execution_count": 34,
     "metadata": {},
     "output_type": "execute_result"
    }
   ],
   "source": [
    "c=('F', 'u', 'l', 'l', 'S', 't', 'a', 'c', 'k', 'D',\n",
    "   'a', 't', 'a', 'S', 'c', 'i', 'e', 'n', 'c', 'e', 'P', 'r', 'o')\n",
    "z=(\"\").join(c)\n",
    "z"
   ]
  },
  {
   "cell_type": "markdown",
   "id": "5500f839",
   "metadata": {},
   "source": [
    "25. Create a tuple from multiple data types.\n"
   ]
  },
  {
   "cell_type": "code",
   "execution_count": 41,
   "id": "a3dc83c9",
   "metadata": {},
   "outputs": [
    {
     "name": "stdout",
     "output_type": "stream",
     "text": [
      "(1, 2, 'data', 32.32, '34')\n"
     ]
    }
   ],
   "source": [
    "tup=(1,2,'data',32.32,'34')\n",
    "print(tup)"
   ]
  },
  {
   "cell_type": "markdown",
   "id": "89c1ebd6",
   "metadata": {},
   "source": [
    "26. Check if two tuples are identical"
   ]
  },
  {
   "cell_type": "code",
   "execution_count": 43,
   "id": "97e5b38a",
   "metadata": {},
   "outputs": [
    {
     "name": "stdout",
     "output_type": "stream",
     "text": [
      "tuples are not identical\n"
     ]
    }
   ],
   "source": [
    "t1=(1,2,3,4)\n",
    "t2=(3,2,5,4)\n",
    "if t1==t2:\n",
    "    print(\"tuples are identical\")\n",
    "else:\n",
    "    print(\"tuples are not identical\")"
   ]
  },
  {
   "cell_type": "markdown",
   "id": "c8c13107",
   "metadata": {},
   "source": [
    "27. Sort the elements of a tuple."
   ]
  },
  {
   "cell_type": "code",
   "execution_count": 53,
   "id": "00760927",
   "metadata": {},
   "outputs": [
    {
     "data": {
      "text/plain": [
       "(1, 2, 3, 4, 5)"
      ]
     },
     "execution_count": 53,
     "metadata": {},
     "output_type": "execute_result"
    }
   ],
   "source": [
    "t1=(3,2,4,1,5)\n",
    "z=list(t1)\n",
    "tuple(sorted(z))"
   ]
  },
  {
   "cell_type": "markdown",
   "id": "ff018f5f",
   "metadata": {},
   "source": [
    "28. Convert a tuple of integers to a tuple of strings."
   ]
  },
  {
   "cell_type": "code",
   "execution_count": 55,
   "id": "893166a7",
   "metadata": {},
   "outputs": [
    {
     "data": {
      "text/plain": [
       "('1', '2', '3', '4')"
      ]
     },
     "execution_count": 55,
     "metadata": {},
     "output_type": "execute_result"
    }
   ],
   "source": [
    "tup=(1,2,3,4)\n",
    "z=tuple(str(i) for i in tup)\n",
    "z"
   ]
  },
  {
   "cell_type": "markdown",
   "id": "4f8b88c6",
   "metadata": {},
   "source": [
    "29. Convert a tuple of strings to a tuple of integers.\n"
   ]
  },
  {
   "cell_type": "code",
   "execution_count": 57,
   "id": "604eb19c",
   "metadata": {},
   "outputs": [
    {
     "data": {
      "text/plain": [
       "(1, 2, 3, 4)"
      ]
     },
     "execution_count": 57,
     "metadata": {},
     "output_type": "execute_result"
    }
   ],
   "source": [
    "s=('1', '2', '3', '4')\n",
    "z=tuple(int(i) for i in s)\n",
    "z"
   ]
  },
  {
   "cell_type": "markdown",
   "id": "9193e4fd",
   "metadata": {},
   "source": [
    "30. Merge two tuples"
   ]
  },
  {
   "cell_type": "code",
   "execution_count": 59,
   "id": "6e0a375e",
   "metadata": {},
   "outputs": [
    {
     "data": {
      "text/plain": [
       "(1, 2, 3, 4, 4, 3, 2, 5)"
      ]
     },
     "execution_count": 59,
     "metadata": {},
     "output_type": "execute_result"
    }
   ],
   "source": [
    "t1=(1,2,3,4)\n",
    "t2=(4,3,2,5)\n",
    "z=t1+t2\n",
    "z"
   ]
  },
  {
   "cell_type": "markdown",
   "id": "781c2e7f",
   "metadata": {},
   "source": [
    "31. Flatten a nested tuple"
   ]
  },
  {
   "cell_type": "code",
   "execution_count": 69,
   "id": "aef8aa3a",
   "metadata": {},
   "outputs": [
    {
     "name": "stdout",
     "output_type": "stream",
     "text": [
      "(1, 2, 3, 3, 4, 5, 2, 3)\n"
     ]
    }
   ],
   "source": [
    "t1 = (1, 2, 3, (3, 4, 5, (2, 3)))\n",
    "import numpy as np\n",
    "\n",
    "def flatten_tuple(t):\n",
    "    flattened = []\n",
    "    for i in t:\n",
    "        if isinstance(i, tuple):\n",
    "            flattened.extend(flatten_tuple(i))\n",
    "        else:\n",
    "            flattened.append(i)\n",
    "    return flattened\n",
    "\n",
    "t1 = (1, 2, 3, (3, 4, 5, (2, 3)))\n",
    "flattened = flatten_tuple(t1)\n",
    "print(tuple(flattened))\n"
   ]
  },
  {
   "cell_type": "markdown",
   "id": "c3f3c508",
   "metadata": {},
   "source": [
    "32. Create a tuple of the first 5 prime numbers.\n"
   ]
  },
  {
   "cell_type": "code",
   "execution_count": 83,
   "id": "f1b27d86",
   "metadata": {},
   "outputs": [
    {
     "name": "stdout",
     "output_type": "stream",
     "text": [
      "(2, 3, 5, 7, 11)\n"
     ]
    }
   ],
   "source": [
    "def prime(n):\n",
    "    \n",
    "    for i in range(2,int(n/2)+1):\n",
    "        if n%i==0:\n",
    "            return False\n",
    "        \n",
    "    return True\n",
    "s=[]\n",
    "num=2\n",
    "while len(s)<5:\n",
    "    if prime(num)==True:\n",
    "        s.append(num)\n",
    "    num=num+1\n",
    "\n",
    "print(tuple(s))    \n",
    "            \n",
    "        "
   ]
  },
  {
   "cell_type": "markdown",
   "id": "49b0fe9e",
   "metadata": {},
   "source": [
    "33. Check if a tuple is a palindrome."
   ]
  },
  {
   "cell_type": "code",
   "execution_count": 84,
   "id": "647a4935",
   "metadata": {},
   "outputs": [
    {
     "name": "stdout",
     "output_type": "stream",
     "text": [
      "tup is palindrome\n"
     ]
    }
   ],
   "source": [
    "tup=(1,2,3,2,1)\n",
    "if list(tup)==list(tup[::-1]):\n",
    "    print(\"tup is palindrome\")\n",
    "else:\n",
    "    print(\"tup is not palindrome\")"
   ]
  },
  {
   "cell_type": "markdown",
   "id": "d44ff534",
   "metadata": {},
   "source": [
    "34. Create a tuple of squares of numbers from 1 to 5."
   ]
  },
  {
   "cell_type": "code",
   "execution_count": 91,
   "id": "0ff29d4e",
   "metadata": {},
   "outputs": [
    {
     "data": {
      "text/plain": [
       "(1, 4, 9, 16, 25)"
      ]
     },
     "execution_count": 91,
     "metadata": {},
     "output_type": "execute_result"
    }
   ],
   "source": [
    "tup=tuple([i**2 for i in range(1,6)])\n",
    "tup"
   ]
  },
  {
   "cell_type": "markdown",
   "id": "58bb2b58",
   "metadata": {},
   "source": [
    "35. Filter out all even numbers from a tuple."
   ]
  },
  {
   "cell_type": "code",
   "execution_count": 92,
   "id": "6622f575",
   "metadata": {},
   "outputs": [
    {
     "name": "stdout",
     "output_type": "stream",
     "text": [
      "(4, 16)\n"
     ]
    }
   ],
   "source": [
    "tup=(1, 4, 9, 16, 25)\n",
    "n=[]\n",
    "for i in tup:\n",
    "    if i%2==0:\n",
    "        n.append(i)\n",
    "print(tuple(n))\n",
    "    \n",
    "        "
   ]
  },
  {
   "cell_type": "markdown",
   "id": "f08574be",
   "metadata": {},
   "source": [
    "36. Multiply all elements in a tuple by 2.\n"
   ]
  },
  {
   "cell_type": "code",
   "execution_count": 93,
   "id": "ae46ae94",
   "metadata": {},
   "outputs": [
    {
     "data": {
      "text/plain": [
       "(2, 4, 6, 8)"
      ]
     },
     "execution_count": 93,
     "metadata": {},
     "output_type": "execute_result"
    }
   ],
   "source": [
    "tup=(1,2,3,4)\n",
    "p=tuple([i*2 for i in tup])\n",
    "p"
   ]
  },
  {
   "cell_type": "markdown",
   "id": "d5c521a7",
   "metadata": {},
   "source": [
    "37. Create a tuple of random numbers."
   ]
  },
  {
   "cell_type": "code",
   "execution_count": 99,
   "id": "42f81b00",
   "metadata": {},
   "outputs": [
    {
     "data": {
      "text/plain": [
       "(15, 18, 13, 6, 16)"
      ]
     },
     "execution_count": 99,
     "metadata": {},
     "output_type": "execute_result"
    }
   ],
   "source": [
    "z=tuple(np.random.randint(2,20,5))\n",
    "z"
   ]
  },
  {
   "cell_type": "markdown",
   "id": "58835a59",
   "metadata": {},
   "source": [
    "38. Check if a tuple is sorted.\n"
   ]
  },
  {
   "cell_type": "code",
   "execution_count": 100,
   "id": "fc2a321d",
   "metadata": {},
   "outputs": [
    {
     "name": "stdout",
     "output_type": "stream",
     "text": [
      "tuple is not sorted\n"
     ]
    }
   ],
   "source": [
    "tup=(15, 18, 13, 6, 16)\n",
    "if tup==tuple(sorted(list(tup))):\n",
    "    print(\"tuple is sorted\")\n",
    "else:\n",
    "    print(\"tuple is not sorted\")"
   ]
  },
  {
   "cell_type": "markdown",
   "id": "ef0f6d69",
   "metadata": {},
   "source": [
    "39. Rotate a tuple to the left by `n` positions.\n"
   ]
  },
  {
   "cell_type": "code",
   "execution_count": 102,
   "id": "2b95bf5a",
   "metadata": {},
   "outputs": [
    {
     "name": "stdout",
     "output_type": "stream",
     "text": [
      "(13, 6, 16, 15, 18)\n"
     ]
    }
   ],
   "source": [
    "tup=(15, 18, 13, 6, 16)\n",
    "tup=tup[2:]+tup[:2]\n",
    "print(tup)"
   ]
  },
  {
   "cell_type": "markdown",
   "id": "09817f6a",
   "metadata": {},
   "source": [
    "40. Rotate a tuple to the right by `n` positions."
   ]
  },
  {
   "cell_type": "code",
   "execution_count": 105,
   "id": "683721d8",
   "metadata": {},
   "outputs": [
    {
     "data": {
      "text/plain": [
       "(6, 16, 15, 18, 13)"
      ]
     },
     "execution_count": 105,
     "metadata": {},
     "output_type": "execute_result"
    }
   ],
   "source": [
    "tup=(15, 18, 13, 6, 16)\n",
    "tup=tup[3:]+tup[:3]\n",
    "tup"
   ]
  },
  {
   "cell_type": "markdown",
   "id": "41419e4c",
   "metadata": {},
   "source": [
    "41. Create a tuple of the first 5 Fibonacci numbers."
   ]
  },
  {
   "cell_type": "code",
   "execution_count": 20,
   "id": "75ab83fb",
   "metadata": {},
   "outputs": [
    {
     "name": "stdout",
     "output_type": "stream",
     "text": [
      "Tuple of the first 5 Fibonacci numbers: (0, 1, 1, 2, 3)\n"
     ]
    }
   ],
   "source": [
    "def generate_fibonacci_numbers(n):\n",
    "    fibonacci_numbers = [0, 1]\n",
    "    while len(fibonacci_numbers) < n:\n",
    "        next_fibonacci = fibonacci_numbers[-1] + fibonacci_numbers[-2]\n",
    "        fibonacci_numbers.append(next_fibonacci)\n",
    "    return tuple(fibonacci_numbers)\n",
    "\n",
    "n = 5\n",
    "fibonacci_tuple = generate_fibonacci_numbers(n)\n",
    "print(\"Tuple of the first\", n, \"Fibonacci numbers:\", fibonacci_tuple)\n"
   ]
  },
  {
   "cell_type": "markdown",
   "id": "ea8772da",
   "metadata": {},
   "source": [
    "42. Create a tuple from user input."
   ]
  },
  {
   "cell_type": "code",
   "execution_count": 112,
   "id": "e7fd6958",
   "metadata": {},
   "outputs": [
    {
     "name": "stdout",
     "output_type": "stream",
     "text": [
      "enter the element to be added2\n",
      "enter the element to be added4\n",
      "enter the element to be added5\n",
      "enter the element to be added6\n"
     ]
    },
    {
     "data": {
      "text/plain": [
       "(2, 4, 5, 6)"
      ]
     },
     "execution_count": 112,
     "metadata": {},
     "output_type": "execute_result"
    }
   ],
   "source": [
    "l=[]\n",
    "for i in range(4):\n",
    "    n=int(input(\"enter the element to be added\"))\n",
    "    l.append(n)\n",
    "tuple(l)"
   ]
  },
  {
   "cell_type": "markdown",
   "id": "9a56079c",
   "metadata": {},
   "source": [
    "43. Swap two elements in a tuple."
   ]
  },
  {
   "cell_type": "code",
   "execution_count": 3,
   "id": "e287f5c6",
   "metadata": {},
   "outputs": [
    {
     "name": "stdout",
     "output_type": "stream",
     "text": [
      "(4, 2, 5, 6)\n"
     ]
    }
   ],
   "source": [
    "z=(2, 4, 5, 6)\n",
    "tup=list(z)\n",
    "tup[0],tup[1]=tup[1],tup[0]\n",
    "print(tuple(tup))"
   ]
  },
  {
   "cell_type": "markdown",
   "id": "30c2a5a1",
   "metadata": {},
   "source": [
    "44. Reverse the elements of a tuple.\n"
   ]
  },
  {
   "cell_type": "code",
   "execution_count": 5,
   "id": "2537871f",
   "metadata": {},
   "outputs": [
    {
     "data": {
      "text/plain": [
       "(6, 5, 4, 2)"
      ]
     },
     "execution_count": 5,
     "metadata": {},
     "output_type": "execute_result"
    }
   ],
   "source": [
    "tup=(2,4,5,6)\n",
    "tup=tup[::-1]\n",
    "tup"
   ]
  },
  {
   "cell_type": "markdown",
   "id": "b3a76b5b",
   "metadata": {},
   "source": [
    "45. Create a tuple of the first `n` powers of 2"
   ]
  },
  {
   "cell_type": "code",
   "execution_count": 6,
   "id": "dbdce23a",
   "metadata": {},
   "outputs": [
    {
     "name": "stdout",
     "output_type": "stream",
     "text": [
      "enter the value of n4\n"
     ]
    },
    {
     "data": {
      "text/plain": [
       "(1, 2, 4, 8)"
      ]
     },
     "execution_count": 6,
     "metadata": {},
     "output_type": "execute_result"
    }
   ],
   "source": [
    "n=int(input(\"enter the value of n\"))\n",
    "tuple([2**i for i in range(n)])"
   ]
  },
  {
   "cell_type": "markdown",
   "id": "0b7463ac",
   "metadata": {},
   "source": [
    "46. Find the longest string in a tuple of strings."
   ]
  },
  {
   "cell_type": "code",
   "execution_count": 10,
   "id": "76343124",
   "metadata": {},
   "outputs": [
    {
     "name": "stdout",
     "output_type": "stream",
     "text": [
      "manipualtion\n"
     ]
    }
   ],
   "source": [
    "tup=('data','manipualtion','is','easy')\n",
    "l=list(tup)\n",
    "max_len=0\n",
    "max_word=\"\"\n",
    "for word in l:\n",
    "    word_len=len(word)\n",
    "    if word_len>max_len:\n",
    "        max_len=word_len\n",
    "        max_word=word\n",
    "print(max_word)\n",
    "    \n",
    "    \n",
    "    "
   ]
  },
  {
   "cell_type": "markdown",
   "id": "075b6870",
   "metadata": {},
   "source": [
    "47. Find the shortest string in a tuple of strings.\n"
   ]
  },
  {
   "cell_type": "code",
   "execution_count": 12,
   "id": "8c8b778e",
   "metadata": {},
   "outputs": [
    {
     "name": "stdout",
     "output_type": "stream",
     "text": [
      "is\n"
     ]
    }
   ],
   "source": [
    "tup=('data','manipualtion','is','easy')\n",
    "l=list(tup)\n",
    "min_len=len(l[0])\n",
    "min_word=\"\"\n",
    "for word in l:\n",
    "    word_len=len(word)\n",
    "    if word_len<min_len:\n",
    "        min_len=word_len\n",
    "        min_word=word\n",
    "print(min_word)\n",
    "    \n",
    "    "
   ]
  },
  {
   "cell_type": "markdown",
   "id": "b2c6c342",
   "metadata": {},
   "source": [
    "48. Create a tuple of the first `n` triangular numbers."
   ]
  },
  {
   "cell_type": "code",
   "execution_count": 13,
   "id": "85ff05f9",
   "metadata": {},
   "outputs": [
    {
     "name": "stdout",
     "output_type": "stream",
     "text": [
      "Enter the value of n: 5\n",
      "Tuple of the first 5 triangular numbers: (1, 3, 6, 10, 15)\n"
     ]
    }
   ],
   "source": [
    "def generate_triangular_numbers(n):\n",
    "    triangular_numbers = []\n",
    "    for i in range(1, n + 1):\n",
    "        triangular_numbers.append(i * (i + 1) // 2)\n",
    "    return tuple(triangular_numbers)\n",
    "\n",
    "n = int(input(\"Enter the value of n: \"))\n",
    "triangular_tuple = generate_triangular_numbers(n)\n",
    "print(\"Tuple of the first\", n, \"triangular numbers:\", triangular_tuple)\n"
   ]
  },
  {
   "cell_type": "markdown",
   "id": "913202e5",
   "metadata": {},
   "source": [
    "49. Check if a tuple contains another tuple as a subsequence."
   ]
  },
  {
   "cell_type": "code",
   "execution_count": 16,
   "id": "c2aab567",
   "metadata": {},
   "outputs": [
    {
     "name": "stdout",
     "output_type": "stream",
     "text": [
      "tup1 contains a subsequence of tup2\n"
     ]
    }
   ],
   "source": [
    "tup1=(1,2,3,4,(2,3,4))\n",
    "tup2=(2,3,4)\n",
    "if tup2 in tup1:\n",
    "    print(\"tup1 contains a subsequence of tup2\")\n",
    "else:\n",
    "    print(\"tup1 does not contain any subsequence\")"
   ]
  },
  {
   "cell_type": "markdown",
   "id": "c3f25218",
   "metadata": {},
   "source": [
    "50. Create a tuple of alternating 1s and 0s of length `n`"
   ]
  },
  {
   "cell_type": "code",
   "execution_count": 19,
   "id": "0a48e218",
   "metadata": {},
   "outputs": [
    {
     "name": "stdout",
     "output_type": "stream",
     "text": [
      "enter the length10\n",
      "(0, 1, 0, 1, 0, 1, 0, 1, 0, 1)\n"
     ]
    }
   ],
   "source": [
    "n=int(input(\"enter the length\"))\n",
    "l=[]\n",
    "for i in range(n):\n",
    "    if i%2==0:\n",
    "        l.append(0)\n",
    "    else:\n",
    "        l.append(1)\n",
    "print(tuple(l))        \n"
   ]
  },
  {
   "cell_type": "code",
   "execution_count": null,
   "id": "9979ec2c",
   "metadata": {},
   "outputs": [],
   "source": []
  }
 ],
 "metadata": {
  "kernelspec": {
   "display_name": "Python 3 (ipykernel)",
   "language": "python",
   "name": "python3"
  },
  "language_info": {
   "codemirror_mode": {
    "name": "ipython",
    "version": 3
   },
   "file_extension": ".py",
   "mimetype": "text/x-python",
   "name": "python",
   "nbconvert_exporter": "python",
   "pygments_lexer": "ipython3",
   "version": "3.9.13"
  }
 },
 "nbformat": 4,
 "nbformat_minor": 5
}
