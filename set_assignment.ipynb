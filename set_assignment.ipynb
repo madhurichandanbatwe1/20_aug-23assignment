{
 "cells": [
  {
   "cell_type": "markdown",
   "id": "7f86bee0",
   "metadata": {},
   "source": [
    "1. Create a set with integers from 1 to 5."
   ]
  },
  {
   "cell_type": "code",
   "execution_count": 2,
   "id": "e0215dcb",
   "metadata": {},
   "outputs": [
    {
     "data": {
      "text/plain": [
       "{1, 2, 3, 4, 5}"
      ]
     },
     "execution_count": 2,
     "metadata": {},
     "output_type": "execute_result"
    }
   ],
   "source": [
    "my_set={1,2,3,4,5}\n",
    "my_set"
   ]
  },
  {
   "cell_type": "markdown",
   "id": "45be95ca",
   "metadata": {},
   "source": [
    "2. Add an element to a set."
   ]
  },
  {
   "cell_type": "code",
   "execution_count": 5,
   "id": "45333593",
   "metadata": {},
   "outputs": [
    {
     "data": {
      "text/plain": [
       "{1, 2, 3, 4, 5, 6}"
      ]
     },
     "execution_count": 5,
     "metadata": {},
     "output_type": "execute_result"
    }
   ],
   "source": [
    "my_set.add(6)\n",
    "my_set"
   ]
  },
  {
   "cell_type": "markdown",
   "id": "584cd02b",
   "metadata": {},
   "source": [
    "3. Remove an element from a set.\n"
   ]
  },
  {
   "cell_type": "code",
   "execution_count": 11,
   "id": "a6c7e925",
   "metadata": {},
   "outputs": [
    {
     "data": {
      "text/plain": [
       "{1, 2, 3, 4, 5}"
      ]
     },
     "execution_count": 11,
     "metadata": {},
     "output_type": "execute_result"
    }
   ],
   "source": [
    "my_set.discard(6)\n",
    "my_set"
   ]
  },
  {
   "cell_type": "markdown",
   "id": "708355e5",
   "metadata": {},
   "source": [
    "4. Check if an element exists in a set."
   ]
  },
  {
   "cell_type": "code",
   "execution_count": 13,
   "id": "a2e7432e",
   "metadata": {},
   "outputs": [
    {
     "name": "stdout",
     "output_type": "stream",
     "text": [
      "set is not empty\n"
     ]
    }
   ],
   "source": [
    "set1={1,2,3}\n",
    "if set1=={}:\n",
    "    print(\"set is empty\")\n",
    "else:\n",
    "    print(\"set is not empty\")"
   ]
  },
  {
   "cell_type": "markdown",
   "id": "47787102",
   "metadata": {},
   "source": [
    "5. Find the length of a set without using the `len()` function.\n"
   ]
  },
  {
   "cell_type": "code",
   "execution_count": 14,
   "id": "6b26b763",
   "metadata": {},
   "outputs": [
    {
     "name": "stdout",
     "output_type": "stream",
     "text": [
      "length is  4\n"
     ]
    }
   ],
   "source": [
    "a=0\n",
    "set1={1,2,3,4}\n",
    "for i in set1:\n",
    "    a=a+1\n",
    "print(\"length is \",a)"
   ]
  },
  {
   "cell_type": "markdown",
   "id": "292b4fcb",
   "metadata": {},
   "source": [
    "6. Clear all elements from a set."
   ]
  },
  {
   "cell_type": "code",
   "execution_count": 16,
   "id": "23d09ca7",
   "metadata": {},
   "outputs": [
    {
     "data": {
      "text/plain": [
       "set()"
      ]
     },
     "execution_count": 16,
     "metadata": {},
     "output_type": "execute_result"
    }
   ],
   "source": [
    "set1={1,2,3,4}\n",
    "set1.clear()\n",
    "set1"
   ]
  },
  {
   "cell_type": "markdown",
   "id": "3968ba26",
   "metadata": {},
   "source": [
    "7.Create a set of even numbers from 1 to 10"
   ]
  },
  {
   "cell_type": "code",
   "execution_count": 19,
   "id": "dadf653a",
   "metadata": {},
   "outputs": [
    {
     "name": "stdout",
     "output_type": "stream",
     "text": [
      "{2, 4, 6, 8, 10}\n"
     ]
    }
   ],
   "source": [
    "s=set()\n",
    "for i in range(1,11):\n",
    "    if i%2==0:\n",
    "        s.add(i)\n",
    "print(s)"
   ]
  },
  {
   "cell_type": "markdown",
   "id": "f841547d",
   "metadata": {},
   "source": [
    "8. Create a set of odd numbers from 1 to 10."
   ]
  },
  {
   "cell_type": "code",
   "execution_count": 20,
   "id": "baa660d1",
   "metadata": {},
   "outputs": [
    {
     "name": "stdout",
     "output_type": "stream",
     "text": [
      "{1, 3, 5, 7, 9}\n"
     ]
    }
   ],
   "source": [
    "s=set()\n",
    "for i in range(1,11):\n",
    "    if i%2!=0:\n",
    "        s.add(i)\n",
    "print(s)"
   ]
  },
  {
   "cell_type": "markdown",
   "id": "ea9b5a2a",
   "metadata": {},
   "source": [
    "9. Find the union of two sets."
   ]
  },
  {
   "cell_type": "code",
   "execution_count": 22,
   "id": "bcc72420",
   "metadata": {},
   "outputs": [
    {
     "data": {
      "text/plain": [
       "{'Akola', 'Amravati', 'Gujarat', 'Hyderabad', 'Maharashtra', 'Nagpur'}"
      ]
     },
     "execution_count": 22,
     "metadata": {},
     "output_type": "execute_result"
    }
   ],
   "source": [
    "s1={\"Akola\",\"Amravati\",\"Nagpur\"}\n",
    "s2={\"Maharashtra\",\"Gujarat\",\"Hyderabad\"}\n",
    "s1.union(s2)"
   ]
  },
  {
   "cell_type": "markdown",
   "id": "2b119af7",
   "metadata": {},
   "source": [
    "10. Find the intersection of two sets"
   ]
  },
  {
   "cell_type": "code",
   "execution_count": 24,
   "id": "60f2cafa",
   "metadata": {},
   "outputs": [
    {
     "data": {
      "text/plain": [
       "{'Banglore', 'Pune'}"
      ]
     },
     "execution_count": 24,
     "metadata": {},
     "output_type": "execute_result"
    }
   ],
   "source": [
    "s1={\"Pune\",\"Banglore\",\"Hyderabad\"}\n",
    "s2={\"Delhi\",\"Pune\",\"Banglore\"}\n",
    "s1.intersection(s2)"
   ]
  },
  {
   "cell_type": "markdown",
   "id": "116d6703",
   "metadata": {},
   "source": [
    "11. Find the difference between two sets."
   ]
  },
  {
   "cell_type": "code",
   "execution_count": 25,
   "id": "d4c3a0a3",
   "metadata": {},
   "outputs": [
    {
     "data": {
      "text/plain": [
       "{'Hyderabad'}"
      ]
     },
     "execution_count": 25,
     "metadata": {},
     "output_type": "execute_result"
    }
   ],
   "source": [
    "s1={\"Pune\",\"Banglore\",\"Hyderabad\"}\n",
    "s2={\"Delhi\",\"Pune\",\"Banglore\"}\n",
    "s1.difference(s2)"
   ]
  },
  {
   "cell_type": "markdown",
   "id": "7a900772",
   "metadata": {},
   "source": [
    "12. Check if a set is a subset of another set."
   ]
  },
  {
   "cell_type": "code",
   "execution_count": 31,
   "id": "5214d93b",
   "metadata": {},
   "outputs": [
    {
     "name": "stdout",
     "output_type": "stream",
     "text": [
      "s2 is not a subset of s1\n"
     ]
    }
   ],
   "source": [
    "s1={1,2,3}\n",
    "s2={4,5,6}\n",
    "if s2.issubset(s1):\n",
    "    print(\"s2 is a subset of s1\")\n",
    "else:\n",
    "    print(\"s2 is not a subset of s1\")"
   ]
  },
  {
   "cell_type": "markdown",
   "id": "cc44973c",
   "metadata": {},
   "source": [
    "13. Check if a set is a superset of another set.\n"
   ]
  },
  {
   "cell_type": "code",
   "execution_count": 32,
   "id": "c9fcb60c",
   "metadata": {},
   "outputs": [
    {
     "name": "stdout",
     "output_type": "stream",
     "text": [
      "s2 is superset of s1\n"
     ]
    }
   ],
   "source": [
    "s1={1,2,3}\n",
    "s2={4,5,6,1,2,3}\n",
    "if s2.issuperset(s1):\n",
    "    print(\"s2 is superset of s1\")\n",
    "else:\n",
    "    print(\"s2 is not a superset of s1\")"
   ]
  },
  {
   "cell_type": "markdown",
   "id": "5af878ad",
   "metadata": {},
   "source": [
    "14. Create a set from a list."
   ]
  },
  {
   "cell_type": "code",
   "execution_count": 34,
   "id": "547fcb0d",
   "metadata": {},
   "outputs": [
    {
     "data": {
      "text/plain": [
       "{1, 2, 3, 4}"
      ]
     },
     "execution_count": 34,
     "metadata": {},
     "output_type": "execute_result"
    }
   ],
   "source": [
    "l1=[1,2,3,4]\n",
    "s1=set(l1)\n",
    "s1"
   ]
  },
  {
   "cell_type": "markdown",
   "id": "7e7c5a60",
   "metadata": {},
   "source": [
    "15. Convert a set to a list"
   ]
  },
  {
   "cell_type": "code",
   "execution_count": 36,
   "id": "b4ba47e2",
   "metadata": {},
   "outputs": [
    {
     "data": {
      "text/plain": [
       "[1, 2, 3, 4]"
      ]
     },
     "execution_count": 36,
     "metadata": {},
     "output_type": "execute_result"
    }
   ],
   "source": [
    "s1={1,2,3,4}\n",
    "l1=list(s1)\n",
    "l1"
   ]
  },
  {
   "cell_type": "markdown",
   "id": "008c79be",
   "metadata": {},
   "source": [
    "16. Remove a random element from a set."
   ]
  },
  {
   "cell_type": "code",
   "execution_count": 43,
   "id": "69925601",
   "metadata": {},
   "outputs": [
    {
     "data": {
      "text/plain": [
       "1"
      ]
     },
     "execution_count": 43,
     "metadata": {},
     "output_type": "execute_result"
    }
   ],
   "source": [
    "s1={1,2,3,4}\n",
    "s1.pop()"
   ]
  },
  {
   "cell_type": "markdown",
   "id": "6d51f8a8",
   "metadata": {},
   "source": [
    "17. Pop an element from a set."
   ]
  },
  {
   "cell_type": "code",
   "execution_count": 48,
   "id": "cd4bc6a2",
   "metadata": {},
   "outputs": [
    {
     "data": {
      "text/plain": [
       "{1, 3, 4, 5}"
      ]
     },
     "execution_count": 48,
     "metadata": {},
     "output_type": "execute_result"
    }
   ],
   "source": [
    "s1={1,2,3,4,5}\n",
    "s1.discard(2)\n",
    "s1"
   ]
  },
  {
   "cell_type": "markdown",
   "id": "a0a7aeb7",
   "metadata": {},
   "source": [
    "18. Check if two sets have no elements in common."
   ]
  },
  {
   "cell_type": "code",
   "execution_count": 49,
   "id": "631f1482",
   "metadata": {},
   "outputs": [
    {
     "data": {
      "text/plain": [
       "{2, 3, 4}"
      ]
     },
     "execution_count": 49,
     "metadata": {},
     "output_type": "execute_result"
    }
   ],
   "source": [
    "s1={1,2,3,4}\n",
    "s2={2,3,4,5}\n",
    "s1.intersection(s2)"
   ]
  },
  {
   "cell_type": "code",
   "execution_count": 52,
   "id": "877d3298",
   "metadata": {},
   "outputs": [
    {
     "name": "stdout",
     "output_type": "stream",
     "text": [
      "Two elements have no common elements\n",
      "Two sets have elements in common\n",
      "Two sets have elements in common\n",
      "Two sets have elements in common\n"
     ]
    }
   ],
   "source": [
    "s1={1,2,3,4}  #3 elements in common and 1 element uncommon\n",
    "s2={2,3,4,5}\n",
    "for i in s1:\n",
    "    if i in s2:\n",
    "        print(\"Two sets have elements in common\")\n",
    "    else:\n",
    "        print(\"Two elements have no common elements\")"
   ]
  },
  {
   "cell_type": "markdown",
   "id": "5ed0ea04",
   "metadata": {},
   "source": [
    "19. Find the symmetric difference between two sets.\n"
   ]
  },
  {
   "cell_type": "code",
   "execution_count": 55,
   "id": "05317b3b",
   "metadata": {},
   "outputs": [
    {
     "data": {
      "text/plain": [
       "{1, 5}"
      ]
     },
     "execution_count": 55,
     "metadata": {},
     "output_type": "execute_result"
    }
   ],
   "source": [
    "s1={1,2,3,4}  \n",
    "s2={2,3,4,5}\n",
    "s1.symmetric_difference(s2)\n"
   ]
  },
  {
   "cell_type": "markdown",
   "id": "3a8d700b",
   "metadata": {},
   "source": [
    "20. Update a set with elements from another set."
   ]
  },
  {
   "cell_type": "code",
   "execution_count": 57,
   "id": "9bc690ea",
   "metadata": {},
   "outputs": [
    {
     "data": {
      "text/plain": [
       "{1, 2, 3, 4, 5}"
      ]
     },
     "execution_count": 57,
     "metadata": {},
     "output_type": "execute_result"
    }
   ],
   "source": [
    "s1={1,2,3,4}  \n",
    "s2={2,3,4,5}\n",
    "s1.update(s2)\n",
    "s1"
   ]
  },
  {
   "cell_type": "markdown",
   "id": "e9eb4c30",
   "metadata": {},
   "source": [
    "21. Create a set of the first 5 prime numbers"
   ]
  },
  {
   "cell_type": "code",
   "execution_count": 84,
   "id": "6e9d7bbd",
   "metadata": {},
   "outputs": [
    {
     "name": "stdout",
     "output_type": "stream",
     "text": [
      "{2, 3, 5, 7, 11}\n"
     ]
    }
   ],
   "source": [
    "def prime(n):\n",
    "    for i in range(2,int(n**0.5)+1):\n",
    "        if n%i==0:\n",
    "            return False\n",
    "    return True\n",
    "s=set()\n",
    "c=0\n",
    "i=2\n",
    "while c<5:\n",
    "    if prime(i)==True:\n",
    "        s.add(i)\n",
    "        c=c+1\n",
    "    i=i+1\n",
    "print(s)\n",
    "    "
   ]
  },
  {
   "cell_type": "markdown",
   "id": "deda3325",
   "metadata": {},
   "source": [
    "23. Create a frozen set."
   ]
  },
  {
   "cell_type": "code",
   "execution_count": 85,
   "id": "053452ee",
   "metadata": {},
   "outputs": [
    {
     "name": "stdout",
     "output_type": "stream",
     "text": [
      "frozenset({1, 2, 3, 4, 5})\n"
     ]
    }
   ],
   "source": [
    "my_frozen_set = frozenset([1, 2, 3, 4, 5])\n",
    "print(my_frozen_set)"
   ]
  },
  {
   "cell_type": "markdown",
   "id": "81b00ce2",
   "metadata": {},
   "source": [
    "24. Check if a set is disjoint with another set.\n"
   ]
  },
  {
   "cell_type": "code",
   "execution_count": 86,
   "id": "3849577f",
   "metadata": {},
   "outputs": [
    {
     "data": {
      "text/plain": [
       "False"
      ]
     },
     "execution_count": 86,
     "metadata": {},
     "output_type": "execute_result"
    }
   ],
   "source": [
    "s1={1,2,3,4}  \n",
    "s2={2,3,4,5}\n",
    "s1.isdisjoint(s2)"
   ]
  },
  {
   "cell_type": "markdown",
   "id": "3f8258fc",
   "metadata": {},
   "source": [
    "25. Create a set of squares of numbers from 1 to 5."
   ]
  },
  {
   "cell_type": "code",
   "execution_count": 88,
   "id": "443c8b7d",
   "metadata": {},
   "outputs": [
    {
     "data": {
      "text/plain": [
       "{1, 4, 9, 16, 25}"
      ]
     },
     "execution_count": 88,
     "metadata": {},
     "output_type": "execute_result"
    }
   ],
   "source": [
    "set([i**2 for i in range(1,6)])"
   ]
  },
  {
   "cell_type": "markdown",
   "id": "9f3f7e2d",
   "metadata": {},
   "source": [
    "26. Filter out all even numbers from a set."
   ]
  },
  {
   "cell_type": "code",
   "execution_count": 9,
   "id": "19bf60af",
   "metadata": {},
   "outputs": [
    {
     "data": {
      "text/plain": [
       "{2, 4}"
      ]
     },
     "execution_count": 9,
     "metadata": {},
     "output_type": "execute_result"
    }
   ],
   "source": [
    "s1={1,2,3,4,5}\n",
    "s_even={i for i in s1 if i%2==0}\n",
    "s_even"
   ]
  },
  {
   "cell_type": "markdown",
   "id": "2e74ca3a",
   "metadata": {},
   "source": [
    "27. Multiply all elements in a set by 2."
   ]
  },
  {
   "cell_type": "code",
   "execution_count": 19,
   "id": "6b8b2429",
   "metadata": {},
   "outputs": [
    {
     "name": "stdout",
     "output_type": "stream",
     "text": [
      "{2, 4, 6, 8, 10}\n"
     ]
    }
   ],
   "source": [
    "s1={1,2,3,4,5}\n",
    "s=set()\n",
    "for i in s1:\n",
    "    s.add(i*2)\n",
    "print(s)"
   ]
  },
  {
   "cell_type": "markdown",
   "id": "bef391d8",
   "metadata": {},
   "source": [
    "28. Create a set of random numbers."
   ]
  },
  {
   "cell_type": "code",
   "execution_count": 21,
   "id": "df264a3b",
   "metadata": {},
   "outputs": [
    {
     "name": "stdout",
     "output_type": "stream",
     "text": [
      "{1, 10, 3, 7}\n"
     ]
    }
   ],
   "source": [
    "import random\n",
    "\n",
    "# Define the size of the set and the range of random numbers\n",
    "set_size = 5\n",
    "min_number = 1\n",
    "max_number = 10\n",
    "\n",
    "# Generate a set of random numbers\n",
    "random_set = {random.randint(min_number, max_number) for _ in range(set_size)}\n",
    "print(random_set)\n"
   ]
  },
  {
   "cell_type": "markdown",
   "id": "ed9fc12d",
   "metadata": {},
   "source": [
    "29. Check if a set is empty."
   ]
  },
  {
   "cell_type": "code",
   "execution_count": 22,
   "id": "42630da6",
   "metadata": {},
   "outputs": [
    {
     "name": "stdout",
     "output_type": "stream",
     "text": [
      "set is not empty\n"
     ]
    }
   ],
   "source": [
    "s1={1,2,3,4,5}\n",
    "if s1==set():\n",
    "    print(\"set is empty\")\n",
    "else:\n",
    "    print(\"set is not empty\")"
   ]
  },
  {
   "cell_type": "markdown",
   "id": "e9e9c7bc",
   "metadata": {},
   "source": [
    "30. Create a nested set (hint: use frozenset).\n"
   ]
  },
  {
   "cell_type": "code",
   "execution_count": 23,
   "id": "60a75e7e",
   "metadata": {},
   "outputs": [
    {
     "name": "stdout",
     "output_type": "stream",
     "text": [
      "frozenset({frozenset({3, 4}), frozenset({5, 6}), frozenset({1, 2})})\n"
     ]
    }
   ],
   "source": [
    "nested_set = frozenset([\n",
    "    frozenset({1, 2}),\n",
    "    frozenset({3, 4}),\n",
    "    frozenset({5, 6})\n",
    "])\n",
    "\n",
    "print(nested_set)\n"
   ]
  },
  {
   "cell_type": "markdown",
   "id": "8598d7aa",
   "metadata": {},
   "source": [
    "31. Remove an element from a set using the discard method.\n"
   ]
  },
  {
   "cell_type": "code",
   "execution_count": 25,
   "id": "44386220",
   "metadata": {},
   "outputs": [
    {
     "data": {
      "text/plain": [
       "{1, 2, 3, 5}"
      ]
     },
     "execution_count": 25,
     "metadata": {},
     "output_type": "execute_result"
    }
   ],
   "source": [
    "s1={1,2,3,4,5}\n",
    "s1.discard(4)\n",
    "s1"
   ]
  },
  {
   "cell_type": "markdown",
   "id": "61937902",
   "metadata": {},
   "source": [
    "32. Compare two sets"
   ]
  },
  {
   "cell_type": "code",
   "execution_count": 26,
   "id": "02e61fbb",
   "metadata": {},
   "outputs": [
    {
     "name": "stdout",
     "output_type": "stream",
     "text": [
      "two sets are not equal\n"
     ]
    }
   ],
   "source": [
    "s1={1,2,3,4}\n",
    "s2={1,2,3,4,5}\n",
    "if s1==s2:\n",
    "    print(\"two sets are equal\")\n",
    "else:\n",
    "    print(\"two sets are not equal\")\n",
    "    "
   ]
  },
  {
   "cell_type": "markdown",
   "id": "768658fe",
   "metadata": {},
   "source": [
    "33. Create a set from a string."
   ]
  },
  {
   "cell_type": "code",
   "execution_count": 28,
   "id": "530c3de8",
   "metadata": {},
   "outputs": [
    {
     "data": {
      "text/plain": [
       "{'D', 'P', 'R', 'S', 'a', 'c', 'e', 'i', 'n', 'o', 't'}"
      ]
     },
     "execution_count": 28,
     "metadata": {},
     "output_type": "execute_result"
    }
   ],
   "source": [
    "string=\"DataSciencePRo\"\n",
    "set(string)"
   ]
  },
  {
   "cell_type": "markdown",
   "id": "f9f89c1b",
   "metadata": {},
   "source": [
    "34. Convert a set of strings to a set of integers."
   ]
  },
  {
   "cell_type": "code",
   "execution_count": 30,
   "id": "a5374875",
   "metadata": {},
   "outputs": [
    {
     "name": "stdout",
     "output_type": "stream",
     "text": [
      "{10, 12, 23}\n"
     ]
    }
   ],
   "source": [
    "s={\"10\",\"23\",\"12\"}\n",
    "s1=set()\n",
    "for i in s:\n",
    "    s1.add(int(i))\n",
    "print(s1)"
   ]
  },
  {
   "cell_type": "markdown",
   "id": "16145931",
   "metadata": {},
   "source": [
    "35. Convert a set of integers to a set of strings."
   ]
  },
  {
   "cell_type": "code",
   "execution_count": 31,
   "id": "4ce30595",
   "metadata": {},
   "outputs": [
    {
     "name": "stdout",
     "output_type": "stream",
     "text": [
      "{'10', '23', '12'}\n"
     ]
    }
   ],
   "source": [
    "s={10,12,23}\n",
    "s1=set()\n",
    "for i in s:\n",
    "    s1.add(str(i))\n",
    "print(s1)"
   ]
  },
  {
   "cell_type": "markdown",
   "id": "e2154d22",
   "metadata": {},
   "source": [
    "36. Create a set from a tuple"
   ]
  },
  {
   "cell_type": "code",
   "execution_count": 32,
   "id": "0febef96",
   "metadata": {},
   "outputs": [
    {
     "data": {
      "text/plain": [
       "{2, 3, 4, 5}"
      ]
     },
     "execution_count": 32,
     "metadata": {},
     "output_type": "execute_result"
    }
   ],
   "source": [
    "tup=(2,3,4,5)\n",
    "set(tup)"
   ]
  },
  {
   "cell_type": "markdown",
   "id": "412a05c4",
   "metadata": {},
   "source": [
    "37. Convert a set to a tuple."
   ]
  },
  {
   "cell_type": "code",
   "execution_count": 33,
   "id": "26f89ea2",
   "metadata": {},
   "outputs": [
    {
     "data": {
      "text/plain": [
       "(1, 2, 3, 4)"
      ]
     },
     "execution_count": 33,
     "metadata": {},
     "output_type": "execute_result"
    }
   ],
   "source": [
    "set1={1,2,3,4}\n",
    "tuple(set1)"
   ]
  },
  {
   "cell_type": "markdown",
   "id": "94c76b87",
   "metadata": {},
   "source": [
    "38. Find the maximum value in a set."
   ]
  },
  {
   "cell_type": "code",
   "execution_count": 41,
   "id": "4ae90653",
   "metadata": {},
   "outputs": [
    {
     "data": {
      "text/plain": [
       "4"
      ]
     },
     "execution_count": 41,
     "metadata": {},
     "output_type": "execute_result"
    }
   ],
   "source": [
    "s1={1,2,3,4}\n",
    "max(s1)"
   ]
  },
  {
   "cell_type": "markdown",
   "id": "07288f54",
   "metadata": {},
   "source": [
    "39. Find the minimum value in a set."
   ]
  },
  {
   "cell_type": "code",
   "execution_count": 42,
   "id": "d8277324",
   "metadata": {},
   "outputs": [
    {
     "data": {
      "text/plain": [
       "1"
      ]
     },
     "execution_count": 42,
     "metadata": {},
     "output_type": "execute_result"
    }
   ],
   "source": [
    "min(s1)"
   ]
  },
  {
   "cell_type": "markdown",
   "id": "b9d5ce11",
   "metadata": {},
   "source": [
    "40. Create a set from user input."
   ]
  },
  {
   "cell_type": "code",
   "execution_count": 44,
   "id": "724d02f1",
   "metadata": {},
   "outputs": [
    {
     "name": "stdout",
     "output_type": "stream",
     "text": [
      "{0, 1, 2, 3, 4, 5}\n"
     ]
    }
   ],
   "source": [
    "s1=set()\n",
    "for i in range(6):\n",
    "    s1.add(i)\n",
    "print(s1)"
   ]
  },
  {
   "cell_type": "markdown",
   "id": "488eecd0",
   "metadata": {},
   "source": [
    "41. Check if the intersection of two sets is empty."
   ]
  },
  {
   "cell_type": "code",
   "execution_count": 47,
   "id": "dd77eefe",
   "metadata": {},
   "outputs": [
    {
     "name": "stdout",
     "output_type": "stream",
     "text": [
      "intersection of two sets is not empty\n"
     ]
    }
   ],
   "source": [
    "s1={1,2,3,4}\n",
    "s2={2,3,4}\n",
    "s=s1.intersection_update(s2)\n",
    "if s==set():\n",
    "    print(\"intersection of two sets is empty\")\n",
    "else:\n",
    "    print(\"intersection of two sets is not empty\")"
   ]
  },
  {
   "cell_type": "markdown",
   "id": "84db9233",
   "metadata": {},
   "source": [
    "42. Create a set of the first 5 Fibonacci numbers."
   ]
  },
  {
   "cell_type": "code",
   "execution_count": 70,
   "id": "ed4eb0ed",
   "metadata": {},
   "outputs": [
    {
     "name": "stdout",
     "output_type": "stream",
     "text": [
      "{0, 1, 2, 3}\n"
     ]
    }
   ],
   "source": [
    "def generate_fibonacci(n):\n",
    "    fibonacci_set = set()\n",
    "    a, b = 0, 1\n",
    "    for _ in range(n):\n",
    "        fibonacci_set.add(a)\n",
    "        a, b = b, a + b\n",
    "    return fibonacci_set\n",
    "\n",
    "fibonacci_set = generate_fibonacci(5)\n",
    "print(fibonacci_set)\n"
   ]
  },
  {
   "cell_type": "markdown",
   "id": "248ca895",
   "metadata": {},
   "source": [
    "43. Remove duplicates from a list using sets.\n"
   ]
  },
  {
   "cell_type": "code",
   "execution_count": 49,
   "id": "7b43aa4b",
   "metadata": {},
   "outputs": [
    {
     "data": {
      "text/plain": [
       "{1, 2, 3, 4, 6, 7}"
      ]
     },
     "execution_count": 49,
     "metadata": {},
     "output_type": "execute_result"
    }
   ],
   "source": [
    "s1=[1,2,3,4,2,3,6,7]\n",
    "set(s1)\n"
   ]
  },
  {
   "cell_type": "markdown",
   "id": "ae346f38",
   "metadata": {},
   "source": [
    "44. Check if two sets have the same elements, regardless of their count.\n"
   ]
  },
  {
   "cell_type": "code",
   "execution_count": 50,
   "id": "8a8f03d6",
   "metadata": {},
   "outputs": [
    {
     "name": "stdout",
     "output_type": "stream",
     "text": [
      "two sets have same elements\n"
     ]
    }
   ],
   "source": [
    "s1={1,2,3,4}\n",
    "s2={1,2,3,4}\n",
    "if s1==s2:\n",
    "    print(\"two sets have same elements\")\n",
    "else:\n",
    "    print(\"two sets dont have same elements\")"
   ]
  },
  {
   "cell_type": "markdown",
   "id": "cc490c6a",
   "metadata": {},
   "source": [
    "45. Create a set of the first `n` powers of 2."
   ]
  },
  {
   "cell_type": "code",
   "execution_count": 52,
   "id": "02027a42",
   "metadata": {},
   "outputs": [
    {
     "name": "stdout",
     "output_type": "stream",
     "text": [
      "enter n 7\n"
     ]
    },
    {
     "data": {
      "text/plain": [
       "{1, 2, 4, 8, 16, 32, 64}"
      ]
     },
     "execution_count": 52,
     "metadata": {},
     "output_type": "execute_result"
    }
   ],
   "source": [
    "n=int(input(\"enter n \"))\n",
    "{2**i for i in range(n)}"
   ]
  },
  {
   "cell_type": "markdown",
   "id": "2d7c5d91",
   "metadata": {},
   "source": [
    "46. Find the common elements between a set and a list."
   ]
  },
  {
   "cell_type": "code",
   "execution_count": 53,
   "id": "5f740af1",
   "metadata": {},
   "outputs": [
    {
     "data": {
      "text/plain": [
       "{2, 3, 4}"
      ]
     },
     "execution_count": 53,
     "metadata": {},
     "output_type": "execute_result"
    }
   ],
   "source": [
    "s1={1,2,3,4}\n",
    "l1=[2,3,4,5]\n",
    "set(l1).intersection(s1)"
   ]
  },
  {
   "cell_type": "markdown",
   "id": "fd0bf357",
   "metadata": {},
   "source": [
    "47. Create a set of the first `n` triangular numbers.\n"
   ]
  },
  {
   "cell_type": "code",
   "execution_count": 69,
   "id": "7e52bd52",
   "metadata": {},
   "outputs": [
    {
     "name": "stdout",
     "output_type": "stream",
     "text": [
      "{1, 3, 6, 10, 15}\n"
     ]
    }
   ],
   "source": [
    "def triangular_number(n):\n",
    "    return n * (n + 1) // 2\n",
    "\n",
    "def first_n_triangular_numbers(n):\n",
    "    return {triangular_number(i) for i in range(1, n + 1)}\n",
    "\n",
    "n = 5  # Change n to the desired number of triangular numbers\n",
    "triangular_set = first_n_triangular_numbers(n)\n",
    "print(triangular_set)\n"
   ]
  },
  {
   "cell_type": "markdown",
   "id": "4577fd61",
   "metadata": {},
   "source": [
    "48. Check if a set contains another set as a subset"
   ]
  },
  {
   "cell_type": "code",
   "execution_count": 54,
   "id": "1bba6b71",
   "metadata": {},
   "outputs": [
    {
     "name": "stdout",
     "output_type": "stream",
     "text": [
      "s2 is subset of s1\n"
     ]
    }
   ],
   "source": [
    "s1={1,2,3,4,5}\n",
    "s2={2,3,4}\n",
    "if s2.issubset(s1):\n",
    "    print(\"s2 is subset of s1\")\n",
    "else:\n",
    "    print(\"s2 is not a subset of s1\")"
   ]
  },
  {
   "cell_type": "markdown",
   "id": "7ea25901",
   "metadata": {},
   "source": [
    "49. Create a set of alternating 1s and 0s of length `n`.\n"
   ]
  },
  {
   "cell_type": "code",
   "execution_count": 68,
   "id": "eff79e7f",
   "metadata": {},
   "outputs": [
    {
     "name": "stdout",
     "output_type": "stream",
     "text": [
      "{0, 1}\n"
     ]
    }
   ],
   "source": [
    "p1=set([0 for i in range(5) if i%2==0])\n",
    "p2=set([1 for i in range(5) if i%2!=0])\n",
    "p1.update(p2)\n",
    "print(p1)"
   ]
  },
  {
   "cell_type": "markdown",
   "id": "d987084f",
   "metadata": {},
   "source": [
    "50. Merge multiple sets into one"
   ]
  },
  {
   "cell_type": "code",
   "execution_count": 64,
   "id": "c6464004",
   "metadata": {},
   "outputs": [
    {
     "name": "stdout",
     "output_type": "stream",
     "text": [
      "{1, 2, 3, 4, 5, 6, 7}\n"
     ]
    }
   ],
   "source": [
    "s1={1,2,3,4}\n",
    "s2={5,5,6,7}\n",
    "s3={4,3,1}\n",
    "s=set()\n",
    "s.update(s1)\n",
    "s.update(s2)\n",
    "s.update(s3)\n",
    "print(s)"
   ]
  },
  {
   "cell_type": "code",
   "execution_count": null,
   "id": "80212fd1",
   "metadata": {},
   "outputs": [],
   "source": []
  }
 ],
 "metadata": {
  "kernelspec": {
   "display_name": "Python 3 (ipykernel)",
   "language": "python",
   "name": "python3"
  },
  "language_info": {
   "codemirror_mode": {
    "name": "ipython",
    "version": 3
   },
   "file_extension": ".py",
   "mimetype": "text/x-python",
   "name": "python",
   "nbconvert_exporter": "python",
   "pygments_lexer": "ipython3",
   "version": "3.9.13"
  }
 },
 "nbformat": 4,
 "nbformat_minor": 5
}
