{
 "cells": [
  {
   "cell_type": "markdown",
   "id": "6596d9e6",
   "metadata": {},
   "source": [
    "1.Write a program to reverse a string."
   ]
  },
  {
   "cell_type": "code",
   "execution_count": 13,
   "id": "ef7a7ecf",
   "metadata": {},
   "outputs": [
    {
     "data": {
      "text/plain": [
       "'sllikSWP'"
      ]
     },
     "execution_count": 13,
     "metadata": {},
     "output_type": "execute_result"
    }
   ],
   "source": [
    "s='PWSkills'\n",
    "s=s[::-1]\n",
    "s"
   ]
  },
  {
   "cell_type": "markdown",
   "id": "c20742de",
   "metadata": {},
   "source": [
    "2. Check if a string is a palindrome."
   ]
  },
  {
   "cell_type": "code",
   "execution_count": 14,
   "id": "3fc0ca37",
   "metadata": {},
   "outputs": [
    {
     "name": "stdout",
     "output_type": "stream",
     "text": [
      "String is palindrome\n"
     ]
    }
   ],
   "source": [
    "s=\"madam\"\n",
    "if s==s[::-1]:\n",
    "    print(\"String is palindrome\")\n",
    "else:\n",
    "    print(\"Not palindrome\")"
   ]
  },
  {
   "cell_type": "markdown",
   "id": "e34ed27c",
   "metadata": {},
   "source": [
    "3. Convert a string to uppercase."
   ]
  },
  {
   "cell_type": "code",
   "execution_count": 15,
   "id": "78cd76e2",
   "metadata": {},
   "outputs": [
    {
     "data": {
      "text/plain": [
       "'PWSKILLS'"
      ]
     },
     "execution_count": 15,
     "metadata": {},
     "output_type": "execute_result"
    }
   ],
   "source": [
    "s1=\"PWSkills\"\n",
    "s1=s1.upper()\n",
    "s1"
   ]
  },
  {
   "cell_type": "markdown",
   "id": "a4562e11",
   "metadata": {},
   "source": [
    "4. Convert a string to lowercase."
   ]
  },
  {
   "cell_type": "code",
   "execution_count": 16,
   "id": "49a17fad",
   "metadata": {},
   "outputs": [
    {
     "data": {
      "text/plain": [
       "'PWSKILLS'"
      ]
     },
     "execution_count": 16,
     "metadata": {},
     "output_type": "execute_result"
    }
   ],
   "source": [
    "s1"
   ]
  },
  {
   "cell_type": "code",
   "execution_count": 21,
   "id": "d0c0ad8c",
   "metadata": {},
   "outputs": [
    {
     "data": {
      "text/plain": [
       "'pwskills'"
      ]
     },
     "execution_count": 21,
     "metadata": {},
     "output_type": "execute_result"
    }
   ],
   "source": [
    "s1.lower()"
   ]
  },
  {
   "cell_type": "markdown",
   "id": "9993a2b0",
   "metadata": {},
   "source": [
    "5. Count the number of vowels in a string."
   ]
  },
  {
   "cell_type": "code",
   "execution_count": 22,
   "id": "8816e004",
   "metadata": {},
   "outputs": [
    {
     "data": {
      "text/plain": [
       "'PWSKILLS'"
      ]
     },
     "execution_count": 22,
     "metadata": {},
     "output_type": "execute_result"
    }
   ],
   "source": [
    "s1"
   ]
  },
  {
   "cell_type": "code",
   "execution_count": 32,
   "id": "fde299ef",
   "metadata": {},
   "outputs": [
    {
     "name": "stdout",
     "output_type": "stream",
     "text": [
      "count of vowels 3\n"
     ]
    }
   ],
   "source": [
    "s1=\"Madhuri\"\n",
    "c=0\n",
    "vowels=['a','e','i','o','u']\n",
    "s2=list(s1.lower())\n",
    "for i in vowels:\n",
    "    if i in s2:\n",
    "        c=c+1\n",
    "print(\"count of vowels\",c)        "
   ]
  },
  {
   "cell_type": "markdown",
   "id": "fab90211",
   "metadata": {},
   "source": [
    "6. Count the number of consonants in a string."
   ]
  },
  {
   "cell_type": "code",
   "execution_count": 37,
   "id": "1780514f",
   "metadata": {},
   "outputs": [
    {
     "name": "stdout",
     "output_type": "stream",
     "text": [
      "Count of consonants is  7\n"
     ]
    }
   ],
   "source": [
    "vowels=['a','e','i','o','u']\n",
    "s1=\"PWSkills\"\n",
    "s2=list(s1.lower())\n",
    "c=0\n",
    "for i in s2:\n",
    "    if i not in vowels:\n",
    "        c=c+1\n",
    "print(\"Count of consonants is \",c)"
   ]
  },
  {
   "cell_type": "markdown",
   "id": "39b20555",
   "metadata": {},
   "source": [
    "7. Remove all whitespaces from a string."
   ]
  },
  {
   "cell_type": "code",
   "execution_count": 40,
   "id": "7d4afa31",
   "metadata": {},
   "outputs": [
    {
     "name": "stdout",
     "output_type": "stream",
     "text": [
      "Enter the stringC i v i c\n"
     ]
    },
    {
     "data": {
      "text/plain": [
       "'Civic'"
      ]
     },
     "execution_count": 40,
     "metadata": {},
     "output_type": "execute_result"
    }
   ],
   "source": [
    "s=str(input(\"Enter the string\"))\n",
    "s=s.replace(\" \",\"\")\n",
    "s"
   ]
  },
  {
   "cell_type": "markdown",
   "id": "4118d288",
   "metadata": {},
   "source": [
    "8. Find the length of a string without using the `len()` function."
   ]
  },
  {
   "cell_type": "code",
   "execution_count": 44,
   "id": "c76166a4",
   "metadata": {},
   "outputs": [
    {
     "data": {
      "text/plain": [
       "12"
      ]
     },
     "execution_count": 44,
     "metadata": {},
     "output_type": "execute_result"
    }
   ],
   "source": [
    "s=\"Data Science\"\n",
    "l=0\n",
    "s=list(s)\n",
    "for i in s:\n",
    "    l=l+1\n",
    "l\n",
    "    "
   ]
  },
  {
   "cell_type": "markdown",
   "id": "a60a39c5",
   "metadata": {},
   "source": [
    "9. Check if a string contains a specific word."
   ]
  },
  {
   "cell_type": "code",
   "execution_count": 45,
   "id": "ac872864",
   "metadata": {},
   "outputs": [
    {
     "name": "stdout",
     "output_type": "stream",
     "text": [
      "True\n"
     ]
    }
   ],
   "source": [
    "string=\"Data Science Pro Unleashed\"\n",
    "substring=\"Pro\"\n",
    "if substring in string:\n",
    "    print(True)"
   ]
  },
  {
   "cell_type": "markdown",
   "id": "9ff62594",
   "metadata": {},
   "source": [
    "10. Replace a word in a string with another word."
   ]
  },
  {
   "cell_type": "code",
   "execution_count": 46,
   "id": "448bed57",
   "metadata": {},
   "outputs": [
    {
     "data": {
      "text/plain": [
       "'Python Pro Unleashed'"
      ]
     },
     "execution_count": 46,
     "metadata": {},
     "output_type": "execute_result"
    }
   ],
   "source": [
    "string=\"Data Science Pro Unleashed\"\n",
    "string=string.replace(\"Data Science\",\"Python\")\n",
    "string"
   ]
  },
  {
   "cell_type": "markdown",
   "id": "95ca5b86",
   "metadata": {},
   "source": [
    "11. Count the occurrences of a word in a string."
   ]
  },
  {
   "cell_type": "code",
   "execution_count": 50,
   "id": "3c0c9fe2",
   "metadata": {},
   "outputs": [
    {
     "name": "stdout",
     "output_type": "stream",
     "text": [
      "Count of  P in word is 1\n",
      "Count of  W in word is 1\n",
      "Count of  S in word is 1\n",
      "Count of  K in word is 1\n",
      "Count of  I in word is 1\n",
      "Count of  l in word is 2\n",
      "Count of  l in word is 2\n",
      "Count of  s in word is 1\n",
      "Count of  L in word is 1\n",
      "Count of  a in word is 1\n",
      "Count of  b in word is 1\n"
     ]
    }
   ],
   "source": [
    "s=\"PWSKIllsLab\"\n",
    "s1=list(s)\n",
    "for i in s1:\n",
    "    z=s1.count(i)\n",
    "    print(\"Count of \",i,\"in word is\",z)\n",
    "    "
   ]
  },
  {
   "cell_type": "markdown",
   "id": "4674d8c1",
   "metadata": {},
   "source": [
    "12. Find the first occurrence of a word in a string."
   ]
  },
  {
   "cell_type": "code",
   "execution_count": 51,
   "id": "2128d609",
   "metadata": {},
   "outputs": [
    {
     "data": {
      "text/plain": [
       "5"
      ]
     },
     "execution_count": 51,
     "metadata": {},
     "output_type": "execute_result"
    }
   ],
   "source": [
    "string=\"PWSkills\"\n",
    "s=string.find('l')\n",
    "s"
   ]
  },
  {
   "cell_type": "markdown",
   "id": "41c9af5b",
   "metadata": {},
   "source": [
    "13. Find the last occurrence of a word in a string."
   ]
  },
  {
   "cell_type": "code",
   "execution_count": 53,
   "id": "326628b8",
   "metadata": {},
   "outputs": [
    {
     "name": "stdout",
     "output_type": "stream",
     "text": [
      "6\n"
     ]
    }
   ],
   "source": [
    "string=\"PWSkills\"\n",
    "index=-1\n",
    "for i in range(0,len(string)):\n",
    "    if string[i]=='l':\n",
    "        index=i\n",
    "print(index)\n",
    "        "
   ]
  },
  {
   "cell_type": "markdown",
   "id": "326d0597",
   "metadata": {},
   "source": [
    "14. Split a string into a list of words."
   ]
  },
  {
   "cell_type": "code",
   "execution_count": 60,
   "id": "4c666033",
   "metadata": {},
   "outputs": [
    {
     "data": {
      "text/plain": [
       "['P', 'W', 'S', 'k', 'i', 'l', 'l', 's']"
      ]
     },
     "execution_count": 60,
     "metadata": {},
     "output_type": "execute_result"
    }
   ],
   "source": [
    "s=\"PWSkills\"\n",
    "s=list(s)\n",
    "s"
   ]
  },
  {
   "cell_type": "markdown",
   "id": "08302893",
   "metadata": {},
   "source": [
    "15. Join a list of words into a string."
   ]
  },
  {
   "cell_type": "code",
   "execution_count": 61,
   "id": "45961f27",
   "metadata": {},
   "outputs": [
    {
     "data": {
      "text/plain": [
       "['P', 'W', 'S', 'k', 'i', 'l', 'l', 's']"
      ]
     },
     "execution_count": 61,
     "metadata": {},
     "output_type": "execute_result"
    }
   ],
   "source": [
    "s"
   ]
  },
  {
   "cell_type": "code",
   "execution_count": 62,
   "id": "4f6b869f",
   "metadata": {},
   "outputs": [
    {
     "data": {
      "text/plain": [
       "'PWSkills'"
      ]
     },
     "execution_count": 62,
     "metadata": {},
     "output_type": "execute_result"
    }
   ],
   "source": [
    "s1=('').join(s)\n",
    "s1"
   ]
  },
  {
   "cell_type": "markdown",
   "id": "635b09e0",
   "metadata": {},
   "source": [
    "16. Convert a string where words are separated by spaces to one where words\n",
    "are separated by underscores."
   ]
  },
  {
   "cell_type": "code",
   "execution_count": 64,
   "id": "87c1c52e",
   "metadata": {},
   "outputs": [
    {
     "data": {
      "text/plain": [
       "'M_a_d_h_u_r_i'"
      ]
     },
     "execution_count": 64,
     "metadata": {},
     "output_type": "execute_result"
    }
   ],
   "source": [
    "s1=\"M a d h u r i\"\n",
    "s2=s1.replace(\" \",\"_\")\n",
    "s2"
   ]
  },
  {
   "cell_type": "markdown",
   "id": "6709bcfd",
   "metadata": {},
   "source": [
    "17. Check if a string starts with a specific word or phrase."
   ]
  },
  {
   "cell_type": "code",
   "execution_count": 65,
   "id": "002f8717",
   "metadata": {},
   "outputs": [
    {
     "name": "stdout",
     "output_type": "stream",
     "text": [
      "True\n"
     ]
    }
   ],
   "source": [
    "s=\"PWSkills\"\n",
    "if s.startswith('P'):\n",
    "    print(True)"
   ]
  },
  {
   "cell_type": "markdown",
   "id": "c0fdc346",
   "metadata": {},
   "source": [
    "18. Check if a string ends with a specific word or phrase."
   ]
  },
  {
   "cell_type": "code",
   "execution_count": 66,
   "id": "91a06ab9",
   "metadata": {},
   "outputs": [
    {
     "name": "stdout",
     "output_type": "stream",
     "text": [
      "False\n"
     ]
    }
   ],
   "source": [
    "if s.endswith('p'):\n",
    "    print(True)\n",
    "else:\n",
    "    print(False)"
   ]
  },
  {
   "cell_type": "markdown",
   "id": "299958d6",
   "metadata": {},
   "source": [
    "19. Convert a string to title case (e.g., \"hello world\" to \"Hello World\")."
   ]
  },
  {
   "cell_type": "code",
   "execution_count": 67,
   "id": "ddf64e4f",
   "metadata": {},
   "outputs": [
    {
     "data": {
      "text/plain": [
       "'Hello World'"
      ]
     },
     "execution_count": 67,
     "metadata": {},
     "output_type": "execute_result"
    }
   ],
   "source": [
    "s= \"hello world\"\n",
    "s=s.title()\n",
    "s"
   ]
  },
  {
   "cell_type": "markdown",
   "id": "143cdb65",
   "metadata": {},
   "source": [
    "20. Find the longest word in a string."
   ]
  },
  {
   "cell_type": "code",
   "execution_count": 8,
   "id": "ace42fec",
   "metadata": {},
   "outputs": [
    {
     "name": "stdout",
     "output_type": "stream",
     "text": [
      "8\n"
     ]
    }
   ],
   "source": [
    "# longest word in the sentence.\n",
    "def LongestWordLength(str):\n",
    "\n",
    "    n = len(str)\n",
    "    res = 0; curr_len = 0\n",
    "\n",
    "    for i in range(0, n):\n",
    "\n",
    "        # If current character is \n",
    "        # not end of current word.\n",
    "        if (str[i] != ' '):\n",
    "            curr_len += 1\n",
    "\n",
    "        # If end of word is found\n",
    "        else:\n",
    "            res = max(res, curr_len)\n",
    "            curr_len = 0\n",
    "\n",
    "    # We do max one more time to consider\n",
    "    # last word as there won't be any space\n",
    "    # after last word.\n",
    "    return max(res, curr_len)\n",
    "\n",
    "# Driver Code\n",
    "s = \"I am an intern at PWSkills\"\n",
    "print(LongestWordLength(s))\n"
   ]
  },
  {
   "cell_type": "markdown",
   "id": "6d51d8f2",
   "metadata": {},
   "source": [
    "21. Find the shortest word in a string."
   ]
  },
  {
   "cell_type": "code",
   "execution_count": 36,
   "id": "93466419",
   "metadata": {},
   "outputs": [],
   "source": [
    "s = \"I am an intern at PWSkills\""
   ]
  },
  {
   "cell_type": "code",
   "execution_count": 41,
   "id": "f2103eb6",
   "metadata": {},
   "outputs": [
    {
     "name": "stdout",
     "output_type": "stream",
     "text": [
      "1 I\n",
      "2 am\n",
      "2 an\n",
      "6 intern\n",
      "2 at\n",
      "8 PWSkills\n"
     ]
    }
   ],
   "source": [
    "s1=s.split()\n",
    "\n",
    "for i in s1:\n",
    "    z=len(i)\n",
    "    print(z,i)\n",
    "    \n",
    "    "
   ]
  },
  {
   "cell_type": "markdown",
   "id": "c26de656",
   "metadata": {},
   "source": [
    "22. Reverse the order of words in a string."
   ]
  },
  {
   "cell_type": "code",
   "execution_count": 45,
   "id": "204d95bc",
   "metadata": {},
   "outputs": [
    {
     "data": {
      "text/plain": [
       "'erolagnaB sllikSWP'"
      ]
     },
     "execution_count": 45,
     "metadata": {},
     "output_type": "execute_result"
    }
   ],
   "source": [
    "s=\"PWSkills Bangalore\"\n",
    "s=s[::-1]\n",
    "s"
   ]
  },
  {
   "cell_type": "markdown",
   "id": "efeb0910",
   "metadata": {},
   "source": [
    "23. Check if a string is alphanumeric."
   ]
  },
  {
   "cell_type": "code",
   "execution_count": 11,
   "id": "0f4a8ab1",
   "metadata": {},
   "outputs": [
    {
     "data": {
      "text/plain": [
       "True"
      ]
     },
     "execution_count": 11,
     "metadata": {},
     "output_type": "execute_result"
    }
   ],
   "source": [
    "string=\"PWSKills28\"\n",
    "string.isalnum()"
   ]
  },
  {
   "cell_type": "markdown",
   "id": "46dfcf2e",
   "metadata": {},
   "source": [
    "24. Extract all digits from a string."
   ]
  },
  {
   "cell_type": "code",
   "execution_count": 12,
   "id": "3a58919f",
   "metadata": {},
   "outputs": [
    {
     "name": "stdout",
     "output_type": "stream",
     "text": [
      "2\n",
      "8\n"
     ]
    }
   ],
   "source": [
    "string=\"PWSKills28\"\n",
    "for i in string:\n",
    "    if i.isdigit():\n",
    "        print(i)"
   ]
  },
  {
   "cell_type": "markdown",
   "id": "016422c1",
   "metadata": {},
   "source": [
    "25. Extract all alphabets from a string."
   ]
  },
  {
   "cell_type": "code",
   "execution_count": 14,
   "id": "3c79a327",
   "metadata": {},
   "outputs": [
    {
     "name": "stdout",
     "output_type": "stream",
     "text": [
      "P\n",
      "W\n",
      "S\n",
      "K\n",
      "i\n",
      "l\n",
      "l\n",
      "s\n"
     ]
    }
   ],
   "source": [
    "string=\"PWSKills28\"\n",
    "for i in string:\n",
    "    if i.isalpha():\n",
    "        print(i)"
   ]
  },
  {
   "cell_type": "markdown",
   "id": "dcafc222",
   "metadata": {},
   "source": [
    "26. Count the number of uppercase letters in a string."
   ]
  },
  {
   "cell_type": "code",
   "execution_count": 16,
   "id": "21821c29",
   "metadata": {},
   "outputs": [
    {
     "name": "stdout",
     "output_type": "stream",
     "text": [
      "P\n",
      "W\n",
      "S\n",
      "K\n"
     ]
    }
   ],
   "source": [
    "string=\"PWSKills28\"\n",
    "for i in string:\n",
    "    if i.isupper():\n",
    "        print(i)"
   ]
  },
  {
   "cell_type": "markdown",
   "id": "c1d24c3a",
   "metadata": {},
   "source": [
    "27. Count the number of lowercase letters in a string."
   ]
  },
  {
   "cell_type": "code",
   "execution_count": 17,
   "id": "0a9b2a6b",
   "metadata": {},
   "outputs": [
    {
     "name": "stdout",
     "output_type": "stream",
     "text": [
      "i\n",
      "l\n",
      "l\n",
      "s\n"
     ]
    }
   ],
   "source": [
    "string=\"PWSKills28\"\n",
    "for i in string:\n",
    "    if i.islower():\n",
    "        print(i)"
   ]
  },
  {
   "cell_type": "markdown",
   "id": "7029f29b",
   "metadata": {},
   "source": [
    "28. Swap the case of each character in a string."
   ]
  },
  {
   "cell_type": "code",
   "execution_count": 19,
   "id": "1d2e10c5",
   "metadata": {},
   "outputs": [
    {
     "data": {
      "text/plain": [
       "'pwskILLS'"
      ]
     },
     "execution_count": 19,
     "metadata": {},
     "output_type": "execute_result"
    }
   ],
   "source": [
    "s=\"PWSKills\"\n",
    "s.swapcase()"
   ]
  },
  {
   "cell_type": "markdown",
   "id": "89b1d848",
   "metadata": {},
   "source": [
    "29. Remove a specific word from a string."
   ]
  },
  {
   "cell_type": "code",
   "execution_count": 21,
   "id": "7c3f43cc",
   "metadata": {},
   "outputs": [
    {
     "name": "stdout",
     "output_type": "stream",
     "text": [
      "enter the character to replaceW\n"
     ]
    },
    {
     "data": {
      "text/plain": [
       "'PSKills'"
      ]
     },
     "execution_count": 21,
     "metadata": {},
     "output_type": "execute_result"
    }
   ],
   "source": [
    "s=\"PWSKills\"\n",
    "s1=str(input(\"enter the character to replace\"))\n",
    "s2=s.replace(s1,\"\")\n",
    "s2"
   ]
  },
  {
   "cell_type": "markdown",
   "id": "da9f9e43",
   "metadata": {},
   "source": [
    "30. Check if a string is a valid email address."
   ]
  },
  {
   "cell_type": "code",
   "execution_count": 28,
   "id": "28da01a7",
   "metadata": {},
   "outputs": [
    {
     "name": "stdout",
     "output_type": "stream",
     "text": [
      "['PWSKills@gmail.com']\n"
     ]
    }
   ],
   "source": [
    "s=\"PWSKills@gmail.com\"\n",
    "import re\n",
    "pattern=r'^[\\w\\.-]+@[\\w\\.-]+\\.\\w+$'\n",
    "z=re.findall(pattern,s)\n",
    "print(z)\n"
   ]
  },
  {
   "cell_type": "markdown",
   "id": "da8eedd9",
   "metadata": {},
   "source": [
    "31. Extract the username from an email address string."
   ]
  },
  {
   "cell_type": "code",
   "execution_count": 29,
   "id": "703646f0",
   "metadata": {},
   "outputs": [
    {
     "data": {
      "text/plain": [
       "'PWSKills'"
      ]
     },
     "execution_count": 29,
     "metadata": {},
     "output_type": "execute_result"
    }
   ],
   "source": [
    "s=\"PWSKills@gmail.com\"\n",
    "import re\n",
    "z=s.split('@')[0]\n",
    "z"
   ]
  },
  {
   "cell_type": "markdown",
   "id": "664bac27",
   "metadata": {},
   "source": [
    "32. Extract the domain name from an email address string."
   ]
  },
  {
   "cell_type": "code",
   "execution_count": 30,
   "id": "ff8eea69",
   "metadata": {},
   "outputs": [
    {
     "data": {
      "text/plain": [
       "'gmail.com'"
      ]
     },
     "execution_count": 30,
     "metadata": {},
     "output_type": "execute_result"
    }
   ],
   "source": [
    "s=\"PWSKills@gmail.com\"\n",
    "import re\n",
    "z=s.split('@')[1]\n",
    "z"
   ]
  },
  {
   "cell_type": "markdown",
   "id": "6d77397e",
   "metadata": {},
   "source": [
    "33. Replace multiple spaces in a string with a single space."
   ]
  },
  {
   "cell_type": "code",
   "execution_count": 32,
   "id": "6a7e1a30",
   "metadata": {},
   "outputs": [
    {
     "data": {
      "text/plain": [
       "'Hello How are you?'"
      ]
     },
     "execution_count": 32,
     "metadata": {},
     "output_type": "execute_result"
    }
   ],
   "source": [
    "string=\"Hello How are you?\"\n",
    "s=(' ').join(string.split())\n",
    "s"
   ]
  },
  {
   "cell_type": "markdown",
   "id": "e7a5738a",
   "metadata": {},
   "source": [
    "34. Check if a string is a valid URL."
   ]
  },
  {
   "cell_type": "code",
   "execution_count": 33,
   "id": "d734420b",
   "metadata": {},
   "outputs": [
    {
     "name": "stdout",
     "output_type": "stream",
     "text": [
      "https://www.example.com is a valid URL.\n",
      "not_a_valid_url is not a valid URL.\n"
     ]
    }
   ],
   "source": [
    "from urllib.parse import urlparse\n",
    "\n",
    "def is_valid_url(url):\n",
    "    try:\n",
    "        result = urlparse(url)\n",
    "        return all([result.scheme, result.netloc])\n",
    "    except ValueError:\n",
    "        return False\n",
    "\n",
    "# Example usage:\n",
    "url1 = \"https://www.example.com\"\n",
    "url2 = \"not_a_valid_url\"\n",
    "\n",
    "if is_valid_url(url1):\n",
    "    print(f\"{url1} is a valid URL.\")\n",
    "else:\n",
    "    print(f\"{url1} is not a valid URL.\")\n",
    "\n",
    "if is_valid_url(url2):\n",
    "    print(f\"{url2} is a valid URL.\")\n",
    "else:\n",
    "    print(f\"{url2} is not a valid URL.\")\n"
   ]
  },
  {
   "cell_type": "markdown",
   "id": "03eabc8f",
   "metadata": {},
   "source": [
    "35. Extract the protocol (http or https) from a URL string."
   ]
  },
  {
   "cell_type": "code",
   "execution_count": 34,
   "id": "fb9b06ff",
   "metadata": {},
   "outputs": [
    {
     "name": "stdout",
     "output_type": "stream",
     "text": [
      "The protocol of the URL https://www.example.com/path/to/resource is: https\n"
     ]
    }
   ],
   "source": [
    "from urllib.parse import urlparse\n",
    "\n",
    "def extract_protocol(url):\n",
    "    parsed_url = urlparse(url)\n",
    "    return parsed_url.scheme\n",
    "\n",
    "# Example usage:\n",
    "url = \"https://www.example.com/path/to/resource\"\n",
    "\n",
    "protocol = extract_protocol(url)\n",
    "\n",
    "print(f\"The protocol of the URL {url} is: {protocol}\")\n"
   ]
  },
  {
   "cell_type": "markdown",
   "id": "a4263d3e",
   "metadata": {},
   "source": [
    "36. Find the frequency of each character in a string."
   ]
  },
  {
   "cell_type": "code",
   "execution_count": 36,
   "id": "3eb3491e",
   "metadata": {},
   "outputs": [
    {
     "name": "stdout",
     "output_type": "stream",
     "text": [
      "freq: {'H': 1, 'i': 2, '!': 1, 'N': 1, 'c': 1, 'e': 3, ' ': 3, 't': 2, 'o': 2, 'm': 1, 'y': 1, 'u': 1, '.': 1}\n"
     ]
    }
   ],
   "source": [
    "s=\"Hi!Nice to meet you.\"\n",
    "freq={}\n",
    "for char in s:\n",
    "    if char in freq:\n",
    "        freq[char]+=1\n",
    "    else:\n",
    "        freq[char]=1\n",
    "print(\"freq:\",freq)\n",
    "    \n",
    "\n"
   ]
  },
  {
   "cell_type": "markdown",
   "id": "88c3324a",
   "metadata": {},
   "source": [
    "37. Remove all punctuation from a string."
   ]
  },
  {
   "cell_type": "code",
   "execution_count": 50,
   "id": "2139f243",
   "metadata": {},
   "outputs": [
    {
     "name": "stdout",
     "output_type": "stream",
     "text": [
      "WaitLet us complete this first\n"
     ]
    }
   ],
   "source": [
    "s=\"Wait!Let us complete this first.\"\n",
    "s=list(s)\n",
    "p=['.','!','?']\n",
    "for i in p:\n",
    "    if i in s:\n",
    "        s=[char for char in s if char!=i]\n",
    "print(\"\".join(s))"
   ]
  },
  {
   "cell_type": "markdown",
   "id": "62e637f9",
   "metadata": {},
   "source": [
    "38. Check if a string contains only digits."
   ]
  },
  {
   "cell_type": "code",
   "execution_count": 52,
   "id": "c495fb37",
   "metadata": {},
   "outputs": [
    {
     "name": "stdout",
     "output_type": "stream",
     "text": [
      "False\n"
     ]
    }
   ],
   "source": [
    "s=\"Payal10\"\n",
    "if s.isdigit():\n",
    "    print(True)\n",
    "else:\n",
    "    print(False)"
   ]
  },
  {
   "cell_type": "markdown",
   "id": "b737d50d",
   "metadata": {},
   "source": [
    "39. Check if a string contains only alphabets."
   ]
  },
  {
   "cell_type": "code",
   "execution_count": 53,
   "id": "8db3de0c",
   "metadata": {},
   "outputs": [
    {
     "name": "stdout",
     "output_type": "stream",
     "text": [
      "False\n"
     ]
    }
   ],
   "source": [
    "s=\"9Komal\"\n",
    "if s.isalpha():\n",
    "    print(True)\n",
    "else:\n",
    "    print(False)"
   ]
  },
  {
   "cell_type": "markdown",
   "id": "ba070467",
   "metadata": {},
   "source": [
    "40. Convert a string to a list of characters."
   ]
  },
  {
   "cell_type": "code",
   "execution_count": 54,
   "id": "07c917fc",
   "metadata": {},
   "outputs": [
    {
     "data": {
      "text/plain": [
       "['1', '4', 'A', 'v', 'i', 'n', 'a', 's', 'h']"
      ]
     },
     "execution_count": 54,
     "metadata": {},
     "output_type": "execute_result"
    }
   ],
   "source": [
    "string='14Avinash'\n",
    "string=list(string)\n",
    "string\n"
   ]
  },
  {
   "cell_type": "markdown",
   "id": "b2cc353a",
   "metadata": {},
   "source": [
    "41. Check if two strings are anagrams."
   ]
  },
  {
   "cell_type": "markdown",
   "id": "c28e3035",
   "metadata": {},
   "source": [
    "def are_anagrams(str1, str2):\n",
    "    # Remove spaces and convert to lowercase for case-insensitive comparison\n",
    "    str1 = str1.replace(\" \", \"\").lower()\n",
    "    str2 = str2.replace(\" \", \"\").lower()\n",
    "\n",
    "    # Check if the sorted characters of both strings are the same\n",
    "    return sorted(str1) == sorted(str2)\n",
    "\n",
    "\n",
    "string1 = \"Listen\"\n",
    "string2 = \"Silent\"\n",
    "\n",
    "if are_anagrams(string1, string2):\n",
    "    print(f\"{string1} and {string2} are anagrams.\")\n",
    "else:\n",
    "    print(f\"{string1} and {string2} are not anagrams.\")\n"
   ]
  },
  {
   "cell_type": "markdown",
   "id": "d83398c2",
   "metadata": {},
   "source": [
    "42. Encode a string using a Caesar cipher."
   ]
  },
  {
   "cell_type": "code",
   "execution_count": 31,
   "id": "c7475bd8",
   "metadata": {},
   "outputs": [
    {
     "name": "stdout",
     "output_type": "stream",
     "text": [
      "Original: Hello, World!\n",
      "Encoded: Khoor, Zruog!\n"
     ]
    }
   ],
   "source": [
    "def caesar_cipher_encode(text, shift):\n",
    "    result = \"\"\n",
    "    for char in text:\n",
    "        if char.isalpha():  # Check if the character is a letter\n",
    "            # Determine whether the letter is uppercase or lowercase\n",
    "            is_upper = char.isupper()\n",
    "            \n",
    "            # Shift the letter and wrap around the alphabet\n",
    "            shifted_char = chr((ord(char) - ord('A' if is_upper else 'a') + shift) % 26 + ord('A' if is_upper else 'a'))\n",
    "            \n",
    "            result += shifted_char\n",
    "        else:\n",
    "            result += char  # Keep non-alphabetic characters unchanged\n",
    "\n",
    "    return result\n",
    "\n",
    "# Example usage:\n",
    "plaintext = \"Hello, World!\"\n",
    "shift_amount = 3\n",
    "ciphertext = caesar_cipher_encode(plaintext, shift_amount)\n",
    "\n",
    "print(f\"Original: {plaintext}\")\n",
    "print(f\"Encoded: {ciphertext}\")\n"
   ]
  },
  {
   "cell_type": "markdown",
   "id": "0915db56",
   "metadata": {},
   "source": [
    "43. Decode a Caesar cipher encoded string."
   ]
  },
  {
   "cell_type": "code",
   "execution_count": 32,
   "id": "c3ec501b",
   "metadata": {},
   "outputs": [
    {
     "name": "stdout",
     "output_type": "stream",
     "text": [
      "Encoded: Khoor, Zruog!\n",
      "Decoded: Hello, World!\n"
     ]
    }
   ],
   "source": [
    "def caesar_cipher_decode(text, shift):\n",
    "    # Use the caesar_cipher_encode function with a negative shift to decode\n",
    "    return caesar_cipher_encode(text, -shift)\n",
    "\n",
    "# Example usage:\n",
    "encoded_text = \"Khoor, Zruog!\"\n",
    "shift_amount = 3\n",
    "decoded_text = caesar_cipher_decode(encoded_text, shift_amount)\n",
    "\n",
    "print(f\"Encoded: {encoded_text}\")\n",
    "print(f\"Decoded: {decoded_text}\")\n"
   ]
  },
  {
   "cell_type": "markdown",
   "id": "e44b4be2",
   "metadata": {},
   "source": [
    "44. Find the most frequent word in a string."
   ]
  },
  {
   "cell_type": "code",
   "execution_count": 56,
   "id": "793a9dc5",
   "metadata": {},
   "outputs": [
    {
     "name": "stdout",
     "output_type": "stream",
     "text": [
      "{'s': 2, 'm': 1, 'r': 2, 'i': 2, 't': 1, 'h': 1, 'e': 2}\n"
     ]
    }
   ],
   "source": [
    "s=\"smritishree\"\n",
    "f={}\n",
    "for i in s:\n",
    "    if i in f:\n",
    "        f[i]+=1\n",
    "    else:\n",
    "        f[i]=1\n",
    "print(f)"
   ]
  },
  {
   "cell_type": "markdown",
   "id": "7b56d386",
   "metadata": {},
   "source": [
    "45. Find all unique words in a string."
   ]
  },
  {
   "cell_type": "code",
   "execution_count": 86,
   "id": "b8ffdbaa",
   "metadata": {},
   "outputs": [
    {
     "name": "stdout",
     "output_type": "stream",
     "text": [
      "{'rain': 2, 'go': 1, 'away': 1, 'come': 1, 'again': 1, 'anaother': 1, 'day': 1}\n",
      "go\n",
      "away\n",
      "come\n",
      "again\n",
      "anaother\n",
      "day\n"
     ]
    }
   ],
   "source": [
    "s=\"rain rain go away come again anaother day\"\n",
    "f={}\n",
    "s=s.lower().split()\n",
    "for i in s:\n",
    "    if i in f:\n",
    "        f[i]+=1\n",
    "    else:\n",
    "        f[i]=1\n",
    "        \n",
    "print(f)\n",
    "#unique_words\n",
    "for key,value in f.items():\n",
    "    if f[key]==1:\n",
    "        print(key)\n",
    "        "
   ]
  },
  {
   "cell_type": "markdown",
   "id": "8a34944a",
   "metadata": {},
   "source": [
    "46. Count the number of syllables in a string."
   ]
  },
  {
   "cell_type": "code",
   "execution_count": 47,
   "id": "547c2fee",
   "metadata": {},
   "outputs": [
    {
     "name": "stdout",
     "output_type": "stream",
     "text": [
      "2\n"
     ]
    }
   ],
   "source": [
    "def syllable_count(word):\n",
    "    word = word.lower()\n",
    "    count = 0\n",
    "    vowels = \"aeiouy\"\n",
    "    if word[0] in vowels:\n",
    "        count += 1\n",
    "    for index in range(1, len(word)):\n",
    "        if word[index] in vowels and word[index - 1] not in vowels:\n",
    "            count += 1\n",
    "    if word.endswith(\"e\"):\n",
    "        count -= 1\n",
    "    if count == 0:\n",
    "        count += 1\n",
    "    return count\n",
    "\n",
    "print(syllable_count('HAIRY'))"
   ]
  },
  {
   "cell_type": "markdown",
   "id": "559cd358",
   "metadata": {},
   "source": [
    "47. Check if a string contains any special characters."
   ]
  },
  {
   "cell_type": "code",
   "execution_count": 9,
   "id": "7e0e4ab6",
   "metadata": {},
   "outputs": [
    {
     "name": "stdout",
     "output_type": "stream",
     "text": [
      "String contains special characters.\n"
     ]
    }
   ],
   "source": [
    "import re\n",
    "string2 = \"70000$ Take the money back!!\"\n",
    "\n",
    "# Check if the string contains any special characters\n",
    "if re.search(r'[^a-zA-Z0-9\\s]', string2):\n",
    "    print(\"String contains special characters.\")\n",
    "else:\n",
    "    print(\"String does not contain special characters.\")\n",
    "\n",
    "\n"
   ]
  },
  {
   "cell_type": "markdown",
   "id": "2345b97f",
   "metadata": {},
   "source": [
    "48. Remove the nth word from a string."
   ]
  },
  {
   "cell_type": "code",
   "execution_count": 25,
   "id": "53b02de0",
   "metadata": {},
   "outputs": [
    {
     "data": {
      "text/plain": [
       "'Shahrukh Khan is the best'"
      ]
     },
     "execution_count": 25,
     "metadata": {},
     "output_type": "execute_result"
    }
   ],
   "source": [
    "string1=\"Shahrukh Khan is the best actor\"\n",
    "z=string1.split()\n",
    "a=z.pop()\n",
    "new_string=(\" \").join(z)\n",
    "new_string"
   ]
  },
  {
   "cell_type": "markdown",
   "id": "6f094e36",
   "metadata": {},
   "source": [
    "49. Insert a word at the nth position in a string."
   ]
  },
  {
   "cell_type": "code",
   "execution_count": 28,
   "id": "4aa54bde",
   "metadata": {},
   "outputs": [
    {
     "data": {
      "text/plain": [
       "'Shahrukh Khan is the best actor'"
      ]
     },
     "execution_count": 28,
     "metadata": {},
     "output_type": "execute_result"
    }
   ],
   "source": [
    "string='Shahrukh Khan is the best'\n",
    "string=string+' actor'\n",
    "string"
   ]
  },
  {
   "cell_type": "markdown",
   "id": "6612c213",
   "metadata": {},
   "source": [
    "50. Convert a CSV string to a list of lists."
   ]
  },
  {
   "cell_type": "code",
   "execution_count": 29,
   "id": "8bb9647c",
   "metadata": {},
   "outputs": [
    {
     "name": "stdout",
     "output_type": "stream",
     "text": [
      "[['1', 'John', 'Doe'], ['2', 'Jane', 'Smith'], ['3', 'Bob', 'Johnson']]\n"
     ]
    }
   ],
   "source": [
    "import csv\n",
    "from io import StringIO\n",
    "\n",
    "csv_string = \"1,John,Doe\\n2,Jane,Smith\\n3,Bob,Johnson\"\n",
    "\n",
    "# Create a CSV reader object\n",
    "csv_reader = csv.reader(StringIO(csv_string))\n",
    "\n",
    "# Convert the CSV data into a list of lists\n",
    "list_of_lists = [row for row in csv_reader]\n",
    "\n",
    "# Print the result\n",
    "print(list_of_lists)\n"
   ]
  },
  {
   "cell_type": "code",
   "execution_count": null,
   "id": "51958422",
   "metadata": {},
   "outputs": [],
   "source": []
  }
 ],
 "metadata": {
  "kernelspec": {
   "display_name": "Python 3 (ipykernel)",
   "language": "python",
   "name": "python3"
  },
  "language_info": {
   "codemirror_mode": {
    "name": "ipython",
    "version": 3
   },
   "file_extension": ".py",
   "mimetype": "text/x-python",
   "name": "python",
   "nbconvert_exporter": "python",
   "pygments_lexer": "ipython3",
   "version": "3.9.13"
  }
 },
 "nbformat": 4,
 "nbformat_minor": 5
}
